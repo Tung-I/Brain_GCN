{
 "cells": [
  {
   "cell_type": "code",
   "execution_count": 1,
   "metadata": {},
   "outputs": [],
   "source": [
    "import numpy as np\n",
    "import logging\n",
    "import nibabel as nib\n",
    "import math\n",
    "from skimage.segmentation import slic\n",
    "from pathlib import Path\n",
    "from tqdm import tqdm"
   ]
  },
  {
   "cell_type": "code",
   "execution_count": null,
   "metadata": {},
   "outputs": [],
   "source": [
    "data_dir = Path('/home/tony/Documents/IBSR_preprocessed/')\n",
    "output_dir = Path('/home/tony/Documents/IBSR_preprocessed_2d/')\n",
    "paths = [path for path in data_dir.iterdir() if path.is_dir()]"
   ]
  },
  {
   "cell_type": "code",
   "execution_count": null,
   "metadata": {},
   "outputs": [],
   "source": [
    "def SLIC_transform(img, _n_segments, _compactness):\n",
    "    #img = max_min_normalize(img)\n",
    "    img = np.expand_dims(img, axis=2)\n",
    "    img = np.concatenate((img, img, img), 2)\n",
    "    segments = slic(img.astype('double'), n_segments=_n_segments, compactness=_compactness)\n",
    "    return segments\n",
    "\n",
    "\n",
    "def feature_extract(img, segments, f_range, n_vertex):\n",
    "    #img = max_min_normalize(img)\n",
    "    step = math.floor(f_range / 2)\n",
    "    n_segments = np.max(segments) + 1\n",
    "    features = np.zeros((n_vertex, f_range*f_range))\n",
    "    #centroid_list = []\n",
    "    for i in range(n_vertex):\n",
    "        if i < n_segments:\n",
    "            h_mean = int(np.where(segments==i)[0].mean())\n",
    "            w_mean = int(np.where(segments==i)[1].mean())\n",
    "            #centroid_list.append((h_mean, w_mean))\n",
    "        else:\n",
    "            h_mean = int(np.where(segments==0)[0].mean())\n",
    "            w_mean = int(np.where(segments==0)[1].mean())\n",
    "            #centroid_list.append((h_mean, w_mean))\n",
    "        h = h_mean\n",
    "        w = w_mean\n",
    "        features[i] = img[h-step:h+step+1, w-step:w+step+1].flatten()\n",
    "    return features\n",
    "\n",
    "def max_min_normalize(img):\n",
    "    img = np.asarray(img)\n",
    "    return (img-np.min(img)) / (np.max(img)-np.min(img))"
   ]
  },
  {
   "cell_type": "code",
   "execution_count": null,
   "metadata": {},
   "outputs": [],
   "source": [
    "for path in paths:\n",
    "    #logging.info(f'Process {path.parts[-1]}.')\n",
    "    print(f'Process {path.parts[-1]}.')\n",
    "    # Create output directory\n",
    "    if not (output_dir / path.parts[-1]).is_dir():\n",
    "        (output_dir / path.parts[-1]).mkdir(parents=True)\n",
    "\n",
    "    # Read in the MRI scans\n",
    "    image = nib.load(str(path / 'image.nii.gz')).get_data().astype(np.float32)\n",
    "    image = np.squeeze(image, 3)\n",
    "    image = image.transpose(2, 0, 1)\n",
    "    label = nib.load(str(path / 'label.nii.gz')).get_data().astype(np.uint8)\n",
    "    label = np.squeeze(label, 3)\n",
    "    label = label.transpose(2, 0, 1)\n",
    "\n",
    "    # Save each slice of the scan into single file\n",
    "    for s in tqdm(range(image.shape[0])):\n",
    "        _image = image[s]\n",
    "        _image = max_min_normalize(_image)\n",
    "        segments = SLIC_transform(_image, n_segments, compactness)\n",
    "        features, adj_arr = feature_extract(_image, segments, feature_range, n_vertex, tao)\n",
    "    \n",
    "        \n",
    "        _label = label[s]\n",
    "        label_new = label_transform(_label, segments)\n",
    "        \n",
    "        np.save((output_dir / path.parts[-1] / f'segments_{s}.npy'), segments)\n",
    "        np.save((output_dir / path.parts[-1] / f'features_{s}.npy'), features)\n",
    "        np.save((output_dir / path.parts[-1] / f'adj_arr_{s}.npy'), adj_arr)\n",
    "        np.save((output_dir / path.parts[-1] / f'label_new_{s}.npy'), label_new)"
   ]
  },
  {
   "cell_type": "code",
   "execution_count": null,
   "metadata": {},
   "outputs": [],
   "source": []
  },
  {
   "cell_type": "code",
   "execution_count": null,
   "metadata": {},
   "outputs": [],
   "source": []
  },
  {
   "cell_type": "code",
   "execution_count": 2,
   "metadata": {},
   "outputs": [],
   "source": [
    "image = nib.load('/home/tony/Documents/IBSR_preprocessed_2d/IBSR_01/image_80.nii.gz').get_data().astype(np.float32)\n",
    "label = nib.load('/home/tony/Documents/IBSR_preprocessed_2d/IBSR_01/label_80.nii.gz').get_data().astype(np.int64)"
   ]
  },
  {
   "cell_type": "code",
   "execution_count": null,
   "metadata": {},
   "outputs": [],
   "source": []
  }
 ],
 "metadata": {
  "kernelspec": {
   "display_name": "torchenv",
   "language": "python",
   "name": "torchenv"
  },
  "language_info": {
   "codemirror_mode": {
    "name": "ipython",
    "version": 3
   },
   "file_extension": ".py",
   "mimetype": "text/x-python",
   "name": "python",
   "nbconvert_exporter": "python",
   "pygments_lexer": "ipython3",
   "version": "3.7.3"
  }
 },
 "nbformat": 4,
 "nbformat_minor": 2
}
