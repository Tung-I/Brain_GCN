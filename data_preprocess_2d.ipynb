{
 "cells": [
  {
   "cell_type": "code",
   "execution_count": 3,
   "metadata": {},
   "outputs": [],
   "source": [
    "import numpy as np\n",
    "import logging\n",
    "import nibabel as nib\n",
    "import math\n",
    "import matplotlib.pyplot as plt\n",
    "from numpy import linalg as LA\n",
    "from skimage.segmentation import slic\n",
    "from pathlib import Path\n",
    "from skimage.segmentation import slic\n",
    "from skimage.segmentation import mark_boundaries\n",
    "from tqdm import tqdm_notebook as tqdm"
   ]
  },
  {
   "cell_type": "code",
   "execution_count": 17,
   "metadata": {},
   "outputs": [],
   "source": [
    "def various_crop(img, label, least_size):\n",
    "    \"\"\"\n",
    "    Args:\n",
    "        img: (numpy.ndarray)\n",
    "    Returns:\n",
    "        cropped_img: (numpy.ndarray)\n",
    "    \"\"\"\n",
    "    h_size = img.shape[0]\n",
    "    w_size = img.shape[1]\n",
    "    anchor = [0, h_size, 0, w_size]\n",
    "    line_w = img.sum(0)\n",
    "    line_h = img.sum(1)\n",
    "    flag = False\n",
    "    for i in range(h_size):\n",
    "        if flag==False and line_h[i]!=0:\n",
    "            anchor[0] = i\n",
    "            flag = True\n",
    "        elif flag==True and line_h[i]==0:\n",
    "            anchor[1] = i\n",
    "            flag = False\n",
    "            break;\n",
    "    flag = False\n",
    "    for i in range(w_size):\n",
    "        if flag==False and line_w[i]!=0:\n",
    "            anchor[2] = i\n",
    "            flag = True\n",
    "        elif flag==True and line_w[i]==0:\n",
    "            anchor[3] = i\n",
    "            flag = False\n",
    "            break;\n",
    "    h_up, h_down, w_left, w_right = anchor\n",
    "    if (h_down - h_up) < least_size:\n",
    "        h_down = h_up + least_size\n",
    "    if (w_right - w_left) < least_size:\n",
    "        w_right = w_left + least_size\n",
    "    return img[h_up:h_down, w_left:w_right], label[h_up:h_down, w_left:w_right]\n",
    "\n",
    "\n",
    "def max_min_normalize(img):\n",
    "    img = np.asarray(img)\n",
    "    return (img-np.min(img)) / ((np.max(img)-np.min(img) + 1e-10))\n",
    "\n",
    "\n",
    "def value_count(arr, num):\n",
    "    \"\"\"\n",
    "    Args:\n",
    "        arr: value 0~1 (numpy.ndarray)\n",
    "    Returns:\n",
    "        arr of value count: (numpy.ndarray)\n",
    "    \"\"\"\n",
    "    arr = arr.flatten()\n",
    "    arr = (arr * (num-1)).astype(np.int32)\n",
    "    cnt_arr = np.zeros(num).astype(np.int32)\n",
    "    for i in range(arr.shape[0]):\n",
    "        cnt_arr[arr[i]] += 1\n",
    "    return cnt_arr / (cnt_arr.max() + 1e-10)\n",
    "\n",
    "\n",
    "def feature_extract(img, segments, v_num, f_num):\n",
    "    features = np.zeros((v_num, f_num))\n",
    "    for i in range(v_num):\n",
    "        area = img[np.where(segments==i)]\n",
    "        features[i] = value_count(area, f_num)\n",
    "    return features \n",
    "\n",
    "\n",
    "def adj_generate(features, segments, tao, threshold):\n",
    "    centroid = []\n",
    "    range_num = features.shape[0] if features.shape[0] < (segments.max()+1) else (segments.max()+1)\n",
    "    for i in range(range_num):\n",
    "        centroid.append((np.where(segments==i)[0].mean(), np.where(segments==i)[1].mean()))\n",
    "    centroid = np.asarray(centroid)\n",
    "    adj_arr = np.zeros((features.shape[0], features.shape[0]))\n",
    "    for i in range(range_num):\n",
    "        for j in range(i+1, range_num):\n",
    "            if LA.norm(centroid[i] - centroid[j]) > (segments.shape[0]*threshold):\n",
    "                adj_arr[i, j] = 0\n",
    "            else:\n",
    "                e_dist = LA.norm((features[i] - features[j]))\n",
    "                tmp = -1 * e_dist * e_dist / (2*tao*tao)\n",
    "                adj_arr[i, j] = math.exp(tmp)\n",
    "            adj_arr[j, i] = adj_arr[i, j]\n",
    "    adj_arr += np.eye(features.shape[0])\n",
    "    return adj_arr\n",
    "\n",
    "\n",
    "def label_transform(label, segments, v_num, f_num):\n",
    "    gcn_label = np.zeros((v_num, 1))\n",
    "    n_range = int(np.minimum(v_num, segments.max()+1))\n",
    "    for i in range(n_range):\n",
    "        gcn_label[i] = int(np.median(label[np.where(segments==i)]))\n",
    "    return gcn_label"
   ]
  },
  {
   "cell_type": "code",
   "execution_count": 21,
   "metadata": {},
   "outputs": [
    {
     "data": {
      "text/plain": [
       "[PosixPath('/home/tony/Documents/IBSR_preprocessed/IBSR_12'),\n",
       " PosixPath('/home/tony/Documents/IBSR_preprocessed/IBSR_16'),\n",
       " PosixPath('/home/tony/Documents/IBSR_preprocessed/IBSR_10'),\n",
       " PosixPath('/home/tony/Documents/IBSR_preprocessed/IBSR_18'),\n",
       " PosixPath('/home/tony/Documents/IBSR_preprocessed/IBSR_08'),\n",
       " PosixPath('/home/tony/Documents/IBSR_preprocessed/IBSR_03'),\n",
       " PosixPath('/home/tony/Documents/IBSR_preprocessed/IBSR_13'),\n",
       " PosixPath('/home/tony/Documents/IBSR_preprocessed/IBSR_11'),\n",
       " PosixPath('/home/tony/Documents/IBSR_preprocessed/IBSR_15'),\n",
       " PosixPath('/home/tony/Documents/IBSR_preprocessed/IBSR_07'),\n",
       " PosixPath('/home/tony/Documents/IBSR_preprocessed/IBSR_09'),\n",
       " PosixPath('/home/tony/Documents/IBSR_preprocessed/IBSR_06'),\n",
       " PosixPath('/home/tony/Documents/IBSR_preprocessed/IBSR_14'),\n",
       " PosixPath('/home/tony/Documents/IBSR_preprocessed/IBSR_17'),\n",
       " PosixPath('/home/tony/Documents/IBSR_preprocessed/IBSR_02'),\n",
       " PosixPath('/home/tony/Documents/IBSR_preprocessed/IBSR_01'),\n",
       " PosixPath('/home/tony/Documents/IBSR_preprocessed/IBSR_04'),\n",
       " PosixPath('/home/tony/Documents/IBSR_preprocessed/IBSR_05')]"
      ]
     },
     "execution_count": 21,
     "metadata": {},
     "output_type": "execute_result"
    }
   ],
   "source": [
    "data_dir = Path('/home/tony/Documents/IBSR_preprocessed/')\n",
    "output_dir = Path('/home/tony/Documents/IBSR_preprocessed_2d/')\n",
    "paths = [path for path in data_dir.iterdir() if path.is_dir()]\n",
    "paths"
   ]
  },
  {
   "cell_type": "code",
   "execution_count": 23,
   "metadata": {},
   "outputs": [
    {
     "name": "stdout",
     "output_type": "stream",
     "text": [
      "Process IBSR_12.\n"
     ]
    },
    {
     "data": {
      "application/vnd.jupyter.widget-view+json": {
       "model_id": "cbd09e6ce48c46189e2de582f71e1d78",
       "version_major": 2,
       "version_minor": 0
      },
      "text/plain": [
       "HBox(children=(IntProgress(value=0, max=128), HTML(value='')))"
      ]
     },
     "metadata": {},
     "output_type": "display_data"
    },
    {
     "name": "stdout",
     "output_type": "stream",
     "text": [
      "\n",
      "Process IBSR_16.\n"
     ]
    },
    {
     "data": {
      "application/vnd.jupyter.widget-view+json": {
       "model_id": "22adc88be5d14bb7b934f9f987a18fbf",
       "version_major": 2,
       "version_minor": 0
      },
      "text/plain": [
       "HBox(children=(IntProgress(value=0, max=128), HTML(value='')))"
      ]
     },
     "metadata": {},
     "output_type": "display_data"
    },
    {
     "name": "stdout",
     "output_type": "stream",
     "text": [
      "\n",
      "Process IBSR_10.\n"
     ]
    },
    {
     "data": {
      "application/vnd.jupyter.widget-view+json": {
       "model_id": "927f26f452bf4dd78ee2a03715d6deea",
       "version_major": 2,
       "version_minor": 0
      },
      "text/plain": [
       "HBox(children=(IntProgress(value=0, max=128), HTML(value='')))"
      ]
     },
     "metadata": {},
     "output_type": "display_data"
    },
    {
     "name": "stdout",
     "output_type": "stream",
     "text": [
      "\n",
      "Process IBSR_18.\n"
     ]
    },
    {
     "data": {
      "application/vnd.jupyter.widget-view+json": {
       "model_id": "23275ce451524f44a4f646140b1c9bb3",
       "version_major": 2,
       "version_minor": 0
      },
      "text/plain": [
       "HBox(children=(IntProgress(value=0, max=128), HTML(value='')))"
      ]
     },
     "metadata": {},
     "output_type": "display_data"
    },
    {
     "name": "stdout",
     "output_type": "stream",
     "text": [
      "\n",
      "Process IBSR_08.\n"
     ]
    },
    {
     "data": {
      "application/vnd.jupyter.widget-view+json": {
       "model_id": "9e55ac1bab4f47819583534e591671ef",
       "version_major": 2,
       "version_minor": 0
      },
      "text/plain": [
       "HBox(children=(IntProgress(value=0, max=128), HTML(value='')))"
      ]
     },
     "metadata": {},
     "output_type": "display_data"
    },
    {
     "name": "stdout",
     "output_type": "stream",
     "text": [
      "\n",
      "Process IBSR_03.\n"
     ]
    },
    {
     "data": {
      "application/vnd.jupyter.widget-view+json": {
       "model_id": "524c8cc179ab4a06b189b7d918501eff",
       "version_major": 2,
       "version_minor": 0
      },
      "text/plain": [
       "HBox(children=(IntProgress(value=0, max=128), HTML(value='')))"
      ]
     },
     "metadata": {},
     "output_type": "display_data"
    },
    {
     "name": "stdout",
     "output_type": "stream",
     "text": [
      "\n",
      "Process IBSR_13.\n"
     ]
    },
    {
     "data": {
      "application/vnd.jupyter.widget-view+json": {
       "model_id": "f9392844bb2b4659aad33586f78a531a",
       "version_major": 2,
       "version_minor": 0
      },
      "text/plain": [
       "HBox(children=(IntProgress(value=0, max=128), HTML(value='')))"
      ]
     },
     "metadata": {},
     "output_type": "display_data"
    },
    {
     "name": "stdout",
     "output_type": "stream",
     "text": [
      "\n",
      "Process IBSR_11.\n"
     ]
    },
    {
     "data": {
      "application/vnd.jupyter.widget-view+json": {
       "model_id": "5592a1147b2d4326aa1790e114feabc1",
       "version_major": 2,
       "version_minor": 0
      },
      "text/plain": [
       "HBox(children=(IntProgress(value=0, max=128), HTML(value='')))"
      ]
     },
     "metadata": {},
     "output_type": "display_data"
    },
    {
     "name": "stdout",
     "output_type": "stream",
     "text": [
      "\n",
      "Process IBSR_15.\n"
     ]
    },
    {
     "data": {
      "application/vnd.jupyter.widget-view+json": {
       "model_id": "71fb5c79be6d4ce9b89cea8b851a010e",
       "version_major": 2,
       "version_minor": 0
      },
      "text/plain": [
       "HBox(children=(IntProgress(value=0, max=128), HTML(value='')))"
      ]
     },
     "metadata": {},
     "output_type": "display_data"
    },
    {
     "name": "stdout",
     "output_type": "stream",
     "text": [
      "\n",
      "Process IBSR_07.\n"
     ]
    },
    {
     "data": {
      "application/vnd.jupyter.widget-view+json": {
       "model_id": "96604e28f3534049ab7d6f565be17683",
       "version_major": 2,
       "version_minor": 0
      },
      "text/plain": [
       "HBox(children=(IntProgress(value=0, max=128), HTML(value='')))"
      ]
     },
     "metadata": {},
     "output_type": "display_data"
    },
    {
     "name": "stdout",
     "output_type": "stream",
     "text": [
      "\n",
      "Process IBSR_09.\n"
     ]
    },
    {
     "data": {
      "application/vnd.jupyter.widget-view+json": {
       "model_id": "0826b0df29de4f52830159feb4f04089",
       "version_major": 2,
       "version_minor": 0
      },
      "text/plain": [
       "HBox(children=(IntProgress(value=0, max=128), HTML(value='')))"
      ]
     },
     "metadata": {},
     "output_type": "display_data"
    },
    {
     "name": "stdout",
     "output_type": "stream",
     "text": [
      "\n",
      "Process IBSR_06.\n"
     ]
    },
    {
     "data": {
      "application/vnd.jupyter.widget-view+json": {
       "model_id": "8ea5d9185ca14f10a443534f7f0ac14e",
       "version_major": 2,
       "version_minor": 0
      },
      "text/plain": [
       "HBox(children=(IntProgress(value=0, max=128), HTML(value='')))"
      ]
     },
     "metadata": {},
     "output_type": "display_data"
    },
    {
     "name": "stdout",
     "output_type": "stream",
     "text": [
      "\n",
      "Process IBSR_14.\n"
     ]
    },
    {
     "data": {
      "application/vnd.jupyter.widget-view+json": {
       "model_id": "a73c62c3497b4ddc909a893dcb22bf51",
       "version_major": 2,
       "version_minor": 0
      },
      "text/plain": [
       "HBox(children=(IntProgress(value=0, max=128), HTML(value='')))"
      ]
     },
     "metadata": {},
     "output_type": "display_data"
    },
    {
     "name": "stdout",
     "output_type": "stream",
     "text": [
      "\n",
      "Process IBSR_17.\n"
     ]
    },
    {
     "data": {
      "application/vnd.jupyter.widget-view+json": {
       "model_id": "b4bfc02c03c74590a0e88883d0c96360",
       "version_major": 2,
       "version_minor": 0
      },
      "text/plain": [
       "HBox(children=(IntProgress(value=0, max=128), HTML(value='')))"
      ]
     },
     "metadata": {},
     "output_type": "display_data"
    },
    {
     "name": "stdout",
     "output_type": "stream",
     "text": [
      "\n",
      "Process IBSR_02.\n"
     ]
    },
    {
     "data": {
      "application/vnd.jupyter.widget-view+json": {
       "model_id": "c325b55f7da64a8fab0bff26e6dd2d37",
       "version_major": 2,
       "version_minor": 0
      },
      "text/plain": [
       "HBox(children=(IntProgress(value=0, max=128), HTML(value='')))"
      ]
     },
     "metadata": {},
     "output_type": "display_data"
    },
    {
     "name": "stdout",
     "output_type": "stream",
     "text": [
      "\n",
      "Process IBSR_01.\n"
     ]
    },
    {
     "data": {
      "application/vnd.jupyter.widget-view+json": {
       "model_id": "7d0bbeb1524d4989b99be25736ecf2c5",
       "version_major": 2,
       "version_minor": 0
      },
      "text/plain": [
       "HBox(children=(IntProgress(value=0, max=128), HTML(value='')))"
      ]
     },
     "metadata": {},
     "output_type": "display_data"
    },
    {
     "name": "stdout",
     "output_type": "stream",
     "text": [
      "\n",
      "Process IBSR_04.\n"
     ]
    },
    {
     "data": {
      "application/vnd.jupyter.widget-view+json": {
       "model_id": "e19cf86ae97e4dc5b3770c6a90506ae1",
       "version_major": 2,
       "version_minor": 0
      },
      "text/plain": [
       "HBox(children=(IntProgress(value=0, max=128), HTML(value='')))"
      ]
     },
     "metadata": {},
     "output_type": "display_data"
    },
    {
     "name": "stdout",
     "output_type": "stream",
     "text": [
      "\n",
      "Process IBSR_05.\n"
     ]
    },
    {
     "data": {
      "application/vnd.jupyter.widget-view+json": {
       "model_id": "de61ff22e7104e39b967900f1f647f60",
       "version_major": 2,
       "version_minor": 0
      },
      "text/plain": [
       "HBox(children=(IntProgress(value=0, max=128), HTML(value='')))"
      ]
     },
     "metadata": {},
     "output_type": "display_data"
    },
    {
     "name": "stdout",
     "output_type": "stream",
     "text": [
      "\n"
     ]
    }
   ],
   "source": [
    "IMG_MIN_SIZE = 64\n",
    "N_SEG = 512\n",
    "COMPACTNESS = 10\n",
    "N_VERTEX = 512\n",
    "N_FEATURES = 128\n",
    "TAO = 0.5\n",
    "THRESHOLD = 0.5\n",
    "\n",
    "for path in paths:\n",
    "    #logging.info(f'Process {path.parts[-1]}.')\n",
    "    print(f'Process {path.parts[-1]}.')\n",
    "    # Create output directory\n",
    "    if not (output_dir / path.parts[-1]).is_dir():\n",
    "        (output_dir / path.parts[-1]).mkdir(parents=True)\n",
    "\n",
    "    # Read in the MRI scans\n",
    "    image = nib.load(str(path / 'image.nii.gz')).get_data().astype(np.float32)\n",
    "    image = np.squeeze(image, 3)\n",
    "    image = image.transpose(2, 0, 1)\n",
    "    label = nib.load(str(path / 'label.nii.gz')).get_data().astype(np.uint8)\n",
    "    label = np.squeeze(label, 3)\n",
    "    label = label.transpose(2, 0, 1)\n",
    "\n",
    "    # Save each slice of the scan into single file\n",
    "    for s in tqdm(range(image.shape[0])):\n",
    "        if s>=5 and s<=115:\n",
    "            _image = image[s]\n",
    "            _label = label[s]\n",
    "            \n",
    "            img_crop, label_crop = various_crop(_image, _label, IMG_MIN_SIZE)\n",
    "            img_crop = max_min_normalize(img_crop)\n",
    "            img_3c = np.expand_dims(img_crop, axis=2)\n",
    "            img_3c = np.concatenate((img_3c, img_3c, img_3c), 2)\n",
    "            \n",
    "            segments = slic(img_3c.astype('double'), n_segments=N_SEG, compactness=COMPACTNESS)\n",
    "            #features = feature_extract(img_crop, segments, N_VERTEX, N_FEATURES)\n",
    "            #adj_arr = adj_generate(features, segments, TAO, THRESHOLD)\n",
    "            \n",
    "            gcn_label = label_transform(label_crop, segments, N_VERTEX, N_FEATURES)\n",
    "            \n",
    "            #np.save(str(output_dir / path.parts[-1] / f'image_{s}.npy'), img_crop)\n",
    "            np.save(str(output_dir / path.parts[-1] / f'label_{s}.npy'), label_crop)\n",
    "            np.save(str(output_dir / path.parts[-1] / f'gcn_label_{s}.npy'), gcn_label)\n",
    "            #np.save(str(output_dir / path.parts[-1] / f'segments_{s}.npy'), segments)\n",
    "            #np.save(str(output_dir / path.parts[-1] / f'features_{s}.npy'), features)\n",
    "            #np.save(str(output_dir / path.parts[-1] / f'adj_arr_{s}.npy'), adj_arr)\n"
   ]
  },
  {
   "cell_type": "code",
   "execution_count": null,
   "metadata": {},
   "outputs": [],
   "source": []
  },
  {
   "cell_type": "code",
   "execution_count": 62,
   "metadata": {},
   "outputs": [],
   "source": [
    "path = Path('/home/tony/Documents/kits19/data/case_00193')\n",
    "image = nib.load(str(path / 'imaging.nii.gz')).get_data().astype(np.float32)\n",
    "label = nib.load(str(path / 'segmentation.nii.gz')).get_data().astype(np.uint8)"
   ]
  },
  {
   "cell_type": "code",
   "execution_count": 64,
   "metadata": {},
   "outputs": [
    {
     "data": {
      "text/plain": [
       "(233, 512, 512)"
      ]
     },
     "execution_count": 64,
     "metadata": {},
     "output_type": "execute_result"
    }
   ],
   "source": [
    "image.shape"
   ]
  },
  {
   "cell_type": "code",
   "execution_count": 32,
   "metadata": {},
   "outputs": [],
   "source": [
    "def label_reconstruct_2d(label, segments):\n",
    "    label_recon = np.zeros((label.shape[0], label.shape[1]))\n",
    "    id_list = list(np.unique(segments))\n",
    "    for i in id_list:\n",
    "        label_recon[np.where(segments==i)] = int(np.median(label[np.where(segments==i)].flatten()))\n",
    "    return label_recon\n",
    "\n",
    "def label_reconstruct_3d(label, segments):\n",
    "    label_recon = np.zeros((label.shape[0], label.shape[1], label.shape[2]))\n",
    "    for i in range(segments.max()+1):\n",
    "        label_recon[np.where(segments==i)] = int(np.median(label[np.where(segments==i)].flatten()))\n",
    "    return label_recon"
   ]
  },
  {
   "cell_type": "code",
   "execution_count": 59,
   "metadata": {},
   "outputs": [
    {
     "data": {
      "text/plain": [
       "<matplotlib.image.AxesImage at 0x7f92d519ecf8>"
      ]
     },
     "execution_count": 59,
     "metadata": {},
     "output_type": "execute_result"
    },
    {
     "data": {
      "image/png": "[encoded data removed]",
      "text/plain": [
       "<Figure size 432x288 with 1 Axes>"
      ]
     },
     "metadata": {
      "needs_background": "light"
     },
     "output_type": "display_data"
    }
   ],
   "source": [
    "img = image[92]\n",
    "img = max_min_normalize(img)\n",
    "lab = label[92]\n",
    "segments = slic(img.astype('double'), n_segments=2048, compactness=0.05)\n",
    "recon = label_reconstruct_2d(lab, segments)\n",
    "plt.imshow(recon)"
   ]
  },
  {
   "cell_type": "code",
   "execution_count": 57,
   "metadata": {},
   "outputs": [
    {
     "data": {
      "text/plain": [
       "<matplotlib.image.AxesImage at 0x7f92d526b400>"
      ]
     },
     "execution_count": 57,
     "metadata": {},
     "output_type": "execute_result"
    },
    {
     "data": {
      "image/png": "[encoded data removed]",
      "text/plain": [
       "<Figure size 432x288 with 1 Axes>"
      ]
     },
     "metadata": {
      "needs_background": "light"
     },
     "output_type": "display_data"
    }
   ],
   "source": [
    "plt.imshow(mark_boundaries(img, segments))"
   ]
  },
  {
   "cell_type": "code",
   "execution_count": 7,
   "metadata": {},
   "outputs": [
    {
     "data": {
      "text/plain": [
       "(98, 512, 512)"
      ]
     },
     "execution_count": 7,
     "metadata": {},
     "output_type": "execute_result"
    }
   ],
   "source": []
  },
  {
   "cell_type": "code",
   "execution_count": null,
   "metadata": {},
   "outputs": [],
   "source": []
  },
  {
   "cell_type": "code",
   "execution_count": 32,
   "metadata": {},
   "outputs": [],
   "source": [
    "_dir = Path('/home/tony/Documents/IBSR_preprocessed_2d/IBSR_11')\n",
    "image = np.load(_dir / f'image_{50}.npy').astype(np.float32)\n",
    "label = np.load(_dir / f'label_{50}.npy').astype(np.int32)\n",
    "gcnlabel = np.load(_dir / f'gcn_label_{50}.npy').astype(np.int32)\n",
    "segments = np.load(_dir / f'segments_{50}.npy').astype(np.float32)\n",
    "features = np.load(_dir / f'features_{50}.npy').astype(np.float32)\n",
    "adj_arr = np.load(_dir / f'adj_arr_{50}.npy').astype(np.float32)"
   ]
  },
  {
   "cell_type": "code",
   "execution_count": 38,
   "metadata": {},
   "outputs": [],
   "source": [
    "import torch\n",
    "def label2img(output, segments):\n",
    "    #output = torch.argmax(output, axis=1)\n",
    "    n_range = output.size(0) if output.size(0)<segments.max()+1 else segments.max()+1\n",
    "\n",
    "    img = torch.zeros_like(segments)\n",
    "    mask0 = torch.zeros_like(segments)\n",
    "    mask1 = torch.ones_like(segments)\n",
    "\n",
    "    for i in range(n_range):\n",
    "        img += torch.where(segments==i, output[i]*mask1, mask0)\n",
    "\n",
    "    return img"
   ]
  },
  {
   "cell_type": "code",
   "execution_count": 39,
   "metadata": {},
   "outputs": [
    {
     "data": {
      "text/plain": [
       "<matplotlib.image.AxesImage at 0x7f12edb541d0>"
      ]
     },
     "execution_count": 39,
     "metadata": {},
     "output_type": "execute_result"
    },
    {
     "data": {
      "image/png": "[encoded data removed]",
      "text/plain": [
       "<Figure size 432x288 with 1 Axes>"
      ]
     },
     "metadata": {
      "needs_background": "light"
     },
     "output_type": "display_data"
    }
   ],
   "source": [
    "gcnlabel = torch.LongTensor(gcnlabel)\n",
    "segments = torch.LongTensor(segments)\n",
    "img = label2img(gcnlabel, segments)\n",
    "plt.imshow(np.asarray(img))"
   ]
  },
  {
   "cell_type": "code",
   "execution_count": 30,
   "metadata": {},
   "outputs": [
    {
     "data": {
      "text/plain": [
       "array([[0],\n",
       "       [0],\n",
       "       [0],\n",
       "       [0],\n",
       "       [0],\n",
       "       [0],\n",
       "       [0],\n",
       "       [0],\n",
       "       [1],\n",
       "       [2],\n",
       "       [0],\n",
       "       [0],\n",
       "       [0],\n",
       "       [0],\n",
       "       [0],\n",
       "       [0],\n",
       "       [0],\n",
       "       [0],\n",
       "       [0],\n",
       "       [0],\n",
       "       [0],\n",
       "       [2],\n",
       "       [2],\n",
       "       [2],\n",
       "       [2],\n",
       "       [2],\n",
       "       [2],\n",
       "       [0],\n",
       "       [0],\n",
       "       [0],\n",
       "       [2],\n",
       "       [3],\n",
       "       [0],\n",
       "       [0],\n",
       "       [0],\n",
       "       [0],\n",
       "       [2],\n",
       "       [2],\n",
       "       [2],\n",
       "       [2],\n",
       "       [2],\n",
       "       [2],\n",
       "       [1],\n",
       "       [2],\n",
       "       [2],\n",
       "       [2],\n",
       "       [2],\n",
       "       [3],\n",
       "       [2],\n",
       "       [2],\n",
       "       [2],\n",
       "       [2],\n",
       "       [3],\n",
       "       [2],\n",
       "       [0],\n",
       "       [0],\n",
       "       [0],\n",
       "       [0],\n",
       "       [2],\n",
       "       [2],\n",
       "       [0],\n",
       "       [0],\n",
       "       [2],\n",
       "       [3],\n",
       "       [2],\n",
       "       [2],\n",
       "       [2],\n",
       "       [3],\n",
       "       [2],\n",
       "       [2],\n",
       "       [2],\n",
       "       [3],\n",
       "       [2],\n",
       "       [2],\n",
       "       [3],\n",
       "       [2],\n",
       "       [3],\n",
       "       [3],\n",
       "       [0],\n",
       "       [2],\n",
       "       [0],\n",
       "       [2],\n",
       "       [3],\n",
       "       [0],\n",
       "       [0],\n",
       "       [0],\n",
       "       [2],\n",
       "       [2],\n",
       "       [2],\n",
       "       [3],\n",
       "       [2],\n",
       "       [2],\n",
       "       [3],\n",
       "       [3],\n",
       "       [3],\n",
       "       [3],\n",
       "       [3],\n",
       "       [3],\n",
       "       [3],\n",
       "       [2],\n",
       "       [2],\n",
       "       [2],\n",
       "       [0],\n",
       "       [2],\n",
       "       [2],\n",
       "       [3],\n",
       "       [2],\n",
       "       [3],\n",
       "       [0],\n",
       "       [0],\n",
       "       [2],\n",
       "       [2],\n",
       "       [2],\n",
       "       [2],\n",
       "       [2],\n",
       "       [2],\n",
       "       [2],\n",
       "       [3],\n",
       "       [3],\n",
       "       [2],\n",
       "       [2],\n",
       "       [3],\n",
       "       [3],\n",
       "       [3],\n",
       "       [3],\n",
       "       [3],\n",
       "       [3],\n",
       "       [0],\n",
       "       [2],\n",
       "       [2],\n",
       "       [0],\n",
       "       [2],\n",
       "       [2],\n",
       "       [2],\n",
       "       [3],\n",
       "       [3],\n",
       "       [2],\n",
       "       [2],\n",
       "       [2],\n",
       "       [3],\n",
       "       [2],\n",
       "       [3],\n",
       "       [3],\n",
       "       [3],\n",
       "       [3],\n",
       "       [2],\n",
       "       [2],\n",
       "       [2],\n",
       "       [3],\n",
       "       [3],\n",
       "       [3],\n",
       "       [3],\n",
       "       [2],\n",
       "       [0],\n",
       "       [3],\n",
       "       [3],\n",
       "       [2],\n",
       "       [2],\n",
       "       [3],\n",
       "       [2],\n",
       "       [3],\n",
       "       [0],\n",
       "       [3],\n",
       "       [3],\n",
       "       [3],\n",
       "       [3],\n",
       "       [3],\n",
       "       [3],\n",
       "       [3],\n",
       "       [2],\n",
       "       [0],\n",
       "       [3],\n",
       "       [2],\n",
       "       [3],\n",
       "       [2],\n",
       "       [2],\n",
       "       [2],\n",
       "       [2],\n",
       "       [2],\n",
       "       [2],\n",
       "       [3],\n",
       "       [3],\n",
       "       [2],\n",
       "       [2],\n",
       "       [2],\n",
       "       [3],\n",
       "       [3],\n",
       "       [3],\n",
       "       [3],\n",
       "       [2],\n",
       "       [1],\n",
       "       [0],\n",
       "       [2],\n",
       "       [3],\n",
       "       [1],\n",
       "       [3],\n",
       "       [2],\n",
       "       [3],\n",
       "       [2],\n",
       "       [2],\n",
       "       [2],\n",
       "       [2],\n",
       "       [2],\n",
       "       [3],\n",
       "       [3],\n",
       "       [3],\n",
       "       [2],\n",
       "       [2],\n",
       "       [3],\n",
       "       [1],\n",
       "       [1],\n",
       "       [0],\n",
       "       [2],\n",
       "       [2],\n",
       "       [2],\n",
       "       [2],\n",
       "       [3],\n",
       "       [3],\n",
       "       [3],\n",
       "       [3],\n",
       "       [3],\n",
       "       [3],\n",
       "       [2],\n",
       "       [3],\n",
       "       [2],\n",
       "       [3],\n",
       "       [3],\n",
       "       [2],\n",
       "       [2],\n",
       "       [3],\n",
       "       [3],\n",
       "       [2],\n",
       "       [3],\n",
       "       [3],\n",
       "       [3],\n",
       "       [2],\n",
       "       [3],\n",
       "       [2],\n",
       "       [2],\n",
       "       [3],\n",
       "       [3],\n",
       "       [3],\n",
       "       [1],\n",
       "       [3],\n",
       "       [3],\n",
       "       [3],\n",
       "       [2],\n",
       "       [2],\n",
       "       [1],\n",
       "       [2],\n",
       "       [2],\n",
       "       [3],\n",
       "       [3],\n",
       "       [2],\n",
       "       [1],\n",
       "       [1],\n",
       "       [2],\n",
       "       [2],\n",
       "       [3],\n",
       "       [2],\n",
       "       [2],\n",
       "       [2],\n",
       "       [2],\n",
       "       [2],\n",
       "       [2],\n",
       "       [2],\n",
       "       [2],\n",
       "       [2],\n",
       "       [2],\n",
       "       [2],\n",
       "       [2],\n",
       "       [3],\n",
       "       [3],\n",
       "       [3],\n",
       "       [3],\n",
       "       [3],\n",
       "       [3],\n",
       "       [3],\n",
       "       [2],\n",
       "       [2],\n",
       "       [3],\n",
       "       [3],\n",
       "       [2],\n",
       "       [2],\n",
       "       [2],\n",
       "       [2],\n",
       "       [3],\n",
       "       [2],\n",
       "       [3],\n",
       "       [3],\n",
       "       [3],\n",
       "       [2],\n",
       "       [2],\n",
       "       [3],\n",
       "       [3],\n",
       "       [2],\n",
       "       [2],\n",
       "       [2],\n",
       "       [2],\n",
       "       [3],\n",
       "       [2],\n",
       "       [3],\n",
       "       [3],\n",
       "       [3],\n",
       "       [2],\n",
       "       [2],\n",
       "       [3],\n",
       "       [2],\n",
       "       [2],\n",
       "       [2],\n",
       "       [2],\n",
       "       [3],\n",
       "       [2],\n",
       "       [2],\n",
       "       [2],\n",
       "       [2],\n",
       "       [2],\n",
       "       [3],\n",
       "       [2],\n",
       "       [0],\n",
       "       [2],\n",
       "       [2],\n",
       "       [2],\n",
       "       [0],\n",
       "       [2],\n",
       "       [2],\n",
       "       [3],\n",
       "       [3],\n",
       "       [1],\n",
       "       [3],\n",
       "       [2],\n",
       "       [3],\n",
       "       [3],\n",
       "       [2],\n",
       "       [2],\n",
       "       [2],\n",
       "       [2],\n",
       "       [2],\n",
       "       [2],\n",
       "       [2],\n",
       "       [3],\n",
       "       [2],\n",
       "       [2],\n",
       "       [0],\n",
       "       [3],\n",
       "       [0],\n",
       "       [1],\n",
       "       [0],\n",
       "       [2],\n",
       "       [2],\n",
       "       [0],\n",
       "       [0],\n",
       "       [0],\n",
       "       [1],\n",
       "       [0],\n",
       "       [0],\n",
       "       [3],\n",
       "       [3],\n",
       "       [3],\n",
       "       [3],\n",
       "       [0],\n",
       "       [0],\n",
       "       [0],\n",
       "       [0],\n",
       "       [0],\n",
       "       [2],\n",
       "       [0],\n",
       "       [3],\n",
       "       [0],\n",
       "       [0],\n",
       "       [1],\n",
       "       [0],\n",
       "       [0],\n",
       "       [0],\n",
       "       [0],\n",
       "       [0],\n",
       "       [0],\n",
       "       [3],\n",
       "       [0],\n",
       "       [0],\n",
       "       [0],\n",
       "       [3],\n",
       "       [3],\n",
       "       [0],\n",
       "       [0],\n",
       "       [0],\n",
       "       [0],\n",
       "       [0],\n",
       "       [0],\n",
       "       [0],\n",
       "       [0],\n",
       "       [1],\n",
       "       [0],\n",
       "       [0],\n",
       "       [0],\n",
       "       [0],\n",
       "       [0],\n",
       "       [0],\n",
       "       [0],\n",
       "       [0],\n",
       "       [0],\n",
       "       [0],\n",
       "       [0],\n",
       "       [0],\n",
       "       [1],\n",
       "       [0],\n",
       "       [0],\n",
       "       [0],\n",
       "       [1],\n",
       "       [0],\n",
       "       [0],\n",
       "       [0],\n",
       "       [0],\n",
       "       [0],\n",
       "       [0],\n",
       "       [0],\n",
       "       [0],\n",
       "       [0],\n",
       "       [0],\n",
       "       [0],\n",
       "       [0],\n",
       "       [0],\n",
       "       [0],\n",
       "       [0],\n",
       "       [0],\n",
       "       [0],\n",
       "       [0],\n",
       "       [0],\n",
       "       [0],\n",
       "       [0],\n",
       "       [0],\n",
       "       [0],\n",
       "       [0],\n",
       "       [0],\n",
       "       [0],\n",
       "       [0],\n",
       "       [0],\n",
       "       [0],\n",
       "       [0],\n",
       "       [0],\n",
       "       [0],\n",
       "       [0],\n",
       "       [0],\n",
       "       [0],\n",
       "       [0],\n",
       "       [0],\n",
       "       [0],\n",
       "       [0],\n",
       "       [0],\n",
       "       [0],\n",
       "       [0],\n",
       "       [0],\n",
       "       [0],\n",
       "       [0],\n",
       "       [0],\n",
       "       [0],\n",
       "       [0],\n",
       "       [0],\n",
       "       [0],\n",
       "       [0],\n",
       "       [0],\n",
       "       [0],\n",
       "       [0],\n",
       "       [0],\n",
       "       [0],\n",
       "       [0],\n",
       "       [0],\n",
       "       [0],\n",
       "       [0],\n",
       "       [0],\n",
       "       [0],\n",
       "       [0],\n",
       "       [0],\n",
       "       [0],\n",
       "       [0],\n",
       "       [0],\n",
       "       [0],\n",
       "       [0],\n",
       "       [0],\n",
       "       [0],\n",
       "       [0],\n",
       "       [0],\n",
       "       [0],\n",
       "       [0],\n",
       "       [0],\n",
       "       [0],\n",
       "       [0],\n",
       "       [0],\n",
       "       [0],\n",
       "       [0],\n",
       "       [0],\n",
       "       [0],\n",
       "       [0],\n",
       "       [0],\n",
       "       [0],\n",
       "       [0],\n",
       "       [0],\n",
       "       [0],\n",
       "       [0],\n",
       "       [0],\n",
       "       [0],\n",
       "       [0],\n",
       "       [0],\n",
       "       [0],\n",
       "       [0],\n",
       "       [0],\n",
       "       [0],\n",
       "       [0],\n",
       "       [0],\n",
       "       [0],\n",
       "       [0],\n",
       "       [0]], dtype=int32)"
      ]
     },
     "execution_count": 30,
     "metadata": {},
     "output_type": "execute_result"
    }
   ],
   "source": [
    "gcnlabel"
   ]
  },
  {
   "cell_type": "code",
   "execution_count": 19,
   "metadata": {},
   "outputs": [
    {
     "data": {
      "text/plain": [
       "<matplotlib.image.AxesImage at 0x7f12f48e8e48>"
      ]
     },
     "execution_count": 19,
     "metadata": {},
     "output_type": "execute_result"
    },
    {
     "data": {
      "image/png": "[encoded data removed]",
      "text/plain": [
       "<Figure size 432x288 with 1 Axes>"
      ]
     },
     "metadata": {
      "needs_background": "light"
     },
     "output_type": "display_data"
    }
   ],
   "source": [
    "def label_transform(label, segments, v_num, f_num):\n",
    "    gcn_label = np.zeros((v_num, 1))\n",
    "    n_range = int(np.minimum(v_num, segments.max()+1))\n",
    "    for i in range(n_range):\n",
    "        gcn_label[i] = int(np.median(label[np.where(segments==i)]))\n",
    "    return gcn_label\n",
    "\n",
    "\n",
    "gcn_label = label_transform(label, segments, 512, 64)\n",
    "label_recon = np.zeros((label.shape[0], label.shape[1]))\n",
    "n_range = int(np.minimum(features.shape[0], segments.max()+1))\n",
    "for i in range(n_range):\n",
    "    label_recon[np.where(segments==i)] = gcn_label[i]\n",
    "plt.imshow(label_recon)"
   ]
  },
  {
   "cell_type": "code",
   "execution_count": 15,
   "metadata": {},
   "outputs": [
    {
     "data": {
      "text/plain": [
       "(118, 141)"
      ]
     },
     "execution_count": 15,
     "metadata": {},
     "output_type": "execute_result"
    }
   ],
   "source": [
    "segments.shape"
   ]
  },
  {
   "cell_type": "code",
   "execution_count": 5,
   "metadata": {},
   "outputs": [
    {
     "data": {
      "text/plain": [
       "<matplotlib.image.AxesImage at 0x7f12f4ad1f60>"
      ]
     },
     "execution_count": 5,
     "metadata": {},
     "output_type": "execute_result"
    },
    {
     "data": {
      "image/png": "[encoded data removed]",
      "text/plain": [
       "<Figure size 432x288 with 1 Axes>"
      ]
     },
     "metadata": {
      "needs_background": "light"
     },
     "output_type": "display_data"
    }
   ],
   "source": [
    "plt.imshow(image)"
   ]
  },
  {
   "cell_type": "code",
   "execution_count": 10,
   "metadata": {},
   "outputs": [
    {
     "data": {
      "text/plain": [
       "<matplotlib.image.AxesImage at 0x7fb5216a41d0>"
      ]
     },
     "execution_count": 10,
     "metadata": {},
     "output_type": "execute_result"
    },
    {
     "data": {
      "image/png": "[encoded data removed]",
      "text/plain": [
       "<Figure size 432x288 with 1 Axes>"
      ]
     },
     "metadata": {
      "needs_background": "light"
     },
     "output_type": "display_data"
    }
   ],
   "source": [
    "plt.imshow(label)"
   ]
  },
  {
   "cell_type": "code",
   "execution_count": 11,
   "metadata": {},
   "outputs": [
    {
     "data": {
      "text/plain": [
       "<matplotlib.image.AxesImage at 0x7fb52167cef0>"
      ]
     },
     "execution_count": 11,
     "metadata": {},
     "output_type": "execute_result"
    },
    {
     "data": {
      "image/png": "[encoded data removed]",
      "text/plain": [
       "<Figure size 432x288 with 1 Axes>"
      ]
     },
     "metadata": {
      "needs_background": "light"
     },
     "output_type": "display_data"
    }
   ],
   "source": [
    "plt.imshow(adj_arr)"
   ]
  },
  {
   "cell_type": "code",
   "execution_count": 12,
   "metadata": {},
   "outputs": [
    {
     "data": {
      "text/plain": [
       "<matplotlib.image.AxesImage at 0x7fb521611c18>"
      ]
     },
     "execution_count": 12,
     "metadata": {},
     "output_type": "execute_result"
    },
    {
     "data": {
      "image/png": "[encoded data removed]",
      "text/plain": [
       "<Figure size 432x288 with 2 Axes>"
      ]
     },
     "metadata": {
      "needs_background": "light"
     },
     "output_type": "display_data"
    }
   ],
   "source": [
    "plt.subplot(211)\n",
    "plt.imshow(image)\n",
    "plt.subplot(212)\n",
    "plt.imshow(label)"
   ]
  },
  {
   "cell_type": "code",
   "execution_count": 13,
   "metadata": {},
   "outputs": [],
   "source": [
    "img_crop, label_crop = various_crop(image, label, 100)\n",
    "img_crop = max_min_normalize(img_crop)\n",
    "img_3c = np.expand_dims(img_crop, axis=2)\n",
    "img_3c = np.concatenate((img_3c, img_3c, img_3c), 2)"
   ]
  },
  {
   "cell_type": "code",
   "execution_count": 14,
   "metadata": {},
   "outputs": [
    {
     "data": {
      "text/plain": [
       "<matplotlib.image.AxesImage at 0x7fb5215346d8>"
      ]
     },
     "execution_count": 14,
     "metadata": {},
     "output_type": "execute_result"
    },
    {
     "data": {
      "image/png": "[encoded data removed]",
      "text/plain": [
       "<Figure size 432x288 with 2 Axes>"
      ]
     },
     "metadata": {
      "needs_background": "light"
     },
     "output_type": "display_data"
    }
   ],
   "source": [
    "n_seg = 512\n",
    "compact = 10\n",
    "segments = slic(img_3c.astype('double'), n_segments=n_seg, compactness=compact)\n",
    "label_recon = np.zeros((label_crop.shape[0], label_crop.shape[1]))\n",
    "for i in range(segments.max()+1):\n",
    "    label_recon[np.where(segments==i)] = int(np.median(label_crop[np.where(segments==i)]))\n",
    "plt.subplot(211)\n",
    "plt.imshow(label_recon)\n",
    "plt.subplot(212)\n",
    "plt.imshow(label_crop)"
   ]
  },
  {
   "cell_type": "code",
   "execution_count": null,
   "metadata": {},
   "outputs": [],
   "source": []
  },
  {
   "cell_type": "code",
   "execution_count": null,
   "metadata": {},
   "outputs": [],
   "source": []
  },
  {
   "cell_type": "code",
   "execution_count": 17,
   "metadata": {},
   "outputs": [
    {
     "data": {
      "text/plain": [
       "<matplotlib.image.AxesImage at 0x7fb521451240>"
      ]
     },
     "execution_count": 17,
     "metadata": {},
     "output_type": "execute_result"
    },
    {
     "data": {
      "image/png": "[encoded data removed]",
      "text/plain": [
       "<Figure size 432x288 with 1 Axes>"
      ]
     },
     "metadata": {
      "needs_background": "light"
     },
     "output_type": "display_data"
    }
   ],
   "source": [
    "test = label_crop.copy()\n",
    "test[np.where(test!=1)] = 0\n",
    "plt.imshow(test)"
   ]
  },
  {
   "cell_type": "code",
   "execution_count": null,
   "metadata": {},
   "outputs": [],
   "source": []
  }
 ],
 "metadata": {
  "kernelspec": {
   "display_name": "torchenv",
   "language": "python",
   "name": "torchenv"
  }
 },
 "nbformat": 4,
 "nbformat_minor": 2
}
