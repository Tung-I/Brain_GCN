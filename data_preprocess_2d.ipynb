{
 "cells": [
  {
   "cell_type": "code",
   "execution_count": 1,
   "metadata": {},
   "outputs": [],
   "source": [
    "import numpy as np\n",
    "import logging\n",
    "import nibabel as nib\n",
    "import math\n",
    "import matplotlib.pyplot as plt\n",
    "from numpy import linalg as LA\n",
    "from skimage.segmentation import slic\n",
    "from pathlib import Path\n",
    "from skimage.segmentation import slic\n",
    "from skimage.segmentation import mark_boundaries\n",
    "from tqdm import tqdm_notebook as tqdm"
   ]
  },
  {
   "cell_type": "code",
   "execution_count": 2,
   "metadata": {},
   "outputs": [],
   "source": [
    "def various_crop(img, label, least_size):\n",
    "    \"\"\"\n",
    "    Args:\n",
    "        img: (numpy.ndarray)\n",
    "    Returns:\n",
    "        cropped_img: (numpy.ndarray)\n",
    "    \"\"\"\n",
    "    h_size = img.shape[0]\n",
    "    w_size = img.shape[1]\n",
    "    anchor = [0, h_size, 0, w_size]\n",
    "    line_w = img.sum(0)\n",
    "    line_h = img.sum(1)\n",
    "    flag = False\n",
    "    for i in range(h_size):\n",
    "        if flag==False and line_h[i]!=0:\n",
    "            anchor[0] = i\n",
    "            flag = True\n",
    "        elif flag==True and line_h[i]==0:\n",
    "            anchor[1] = i\n",
    "            flag = False\n",
    "            break;\n",
    "    flag = False\n",
    "    for i in range(w_size):\n",
    "        if flag==False and line_w[i]!=0:\n",
    "            anchor[2] = i\n",
    "            flag = True\n",
    "        elif flag==True and line_w[i]==0:\n",
    "            anchor[3] = i\n",
    "            flag = False\n",
    "            break;\n",
    "    h_up, h_down, w_left, w_right = anchor\n",
    "    if (h_down - h_up) < least_size:\n",
    "        h_down = h_up + least_size\n",
    "    if (w_right - w_left) < least_size:\n",
    "        w_right = w_left + least_size\n",
    "    return img[h_up:h_down, w_left:w_right], label[h_up:h_down, w_left:w_right]\n",
    "\n",
    "\n",
    "def max_min_normalize(img):\n",
    "    img = np.asarray(img)\n",
    "    return (img-np.min(img)) / ((np.max(img)-np.min(img) + 1e-10))\n",
    "\n",
    "\n",
    "def value_count(arr, num):\n",
    "    \"\"\"\n",
    "    Args:\n",
    "        arr: value 0~1 (numpy.ndarray)\n",
    "    Returns:\n",
    "        arr of value count: (numpy.ndarray)\n",
    "    \"\"\"\n",
    "    arr = arr.flatten()\n",
    "    arr = (arr * (num-1)).astype(np.int32)\n",
    "    cnt_arr = np.zeros(num).astype(np.int32)\n",
    "    for i in range(arr.shape[0]):\n",
    "        cnt_arr[arr[i]] += 1\n",
    "    return cnt_arr / (cnt_arr.max() + 1e-10)\n",
    "\n",
    "\n",
    "def feature_extract(img, segments, v_num, f_num):\n",
    "    features = np.zeros((v_num, f_num))\n",
    "    for i in range(v_num):\n",
    "        area = img[np.where(segments==i)]\n",
    "        features[i] = value_count(area, f_num)\n",
    "    return features \n",
    "\n",
    "\n",
    "def adj_generate(features, segments, tao, threshold):\n",
    "    centroid = []\n",
    "    range_num = features.shape[0] if features.shape[0] < (segments.max()+1) else (segments.max()+1)\n",
    "    for i in range(range_num):\n",
    "        centroid.append((np.where(segments==i)[0].mean(), np.where(segments==i)[1].mean()))\n",
    "    centroid = np.asarray(centroid)\n",
    "    adj_arr = np.zeros((features.shape[0], features.shape[0]))\n",
    "    for i in range(range_num):\n",
    "        for j in range(i+1, range_num):\n",
    "            if LA.norm(centroid[i] - centroid[j]) > (segments.shape[0]*threshold):\n",
    "                adj_arr[i, j] = 0\n",
    "            else:\n",
    "                e_dist = LA.norm((features[i] - features[j]))\n",
    "                tmp = -1 * e_dist * e_dist / (2*tao*tao)\n",
    "                adj_arr[i, j] = math.exp(tmp)\n",
    "            adj_arr[j, i] = adj_arr[i, j]\n",
    "    adj_arr += np.eye(features.shape[0])\n",
    "    return adj_arr"
   ]
  },
  {
   "cell_type": "code",
   "execution_count": 3,
   "metadata": {},
   "outputs": [
    {
     "data": {
      "text/plain": [
       "[PosixPath('/home/tony/Documents/IBSR_preprocessed/IBSR_12'),\n",
       " PosixPath('/home/tony/Documents/IBSR_preprocessed/IBSR_16'),\n",
       " PosixPath('/home/tony/Documents/IBSR_preprocessed/IBSR_10'),\n",
       " PosixPath('/home/tony/Documents/IBSR_preprocessed/IBSR_18'),\n",
       " PosixPath('/home/tony/Documents/IBSR_preprocessed/IBSR_08'),\n",
       " PosixPath('/home/tony/Documents/IBSR_preprocessed/IBSR_03'),\n",
       " PosixPath('/home/tony/Documents/IBSR_preprocessed/IBSR_13'),\n",
       " PosixPath('/home/tony/Documents/IBSR_preprocessed/IBSR_11'),\n",
       " PosixPath('/home/tony/Documents/IBSR_preprocessed/IBSR_15'),\n",
       " PosixPath('/home/tony/Documents/IBSR_preprocessed/IBSR_07'),\n",
       " PosixPath('/home/tony/Documents/IBSR_preprocessed/IBSR_09'),\n",
       " PosixPath('/home/tony/Documents/IBSR_preprocessed/IBSR_06'),\n",
       " PosixPath('/home/tony/Documents/IBSR_preprocessed/IBSR_14'),\n",
       " PosixPath('/home/tony/Documents/IBSR_preprocessed/IBSR_17'),\n",
       " PosixPath('/home/tony/Documents/IBSR_preprocessed/IBSR_02'),\n",
       " PosixPath('/home/tony/Documents/IBSR_preprocessed/IBSR_01'),\n",
       " PosixPath('/home/tony/Documents/IBSR_preprocessed/IBSR_04'),\n",
       " PosixPath('/home/tony/Documents/IBSR_preprocessed/IBSR_05')]"
      ]
     },
     "execution_count": 3,
     "metadata": {},
     "output_type": "execute_result"
    }
   ],
   "source": [
    "data_dir = Path('/home/tony/Documents/IBSR_preprocessed/')\n",
    "output_dir = Path('/home/tony/Documents/IBSR_preprocessed_2d/')\n",
    "paths = [path for path in data_dir.iterdir() if path.is_dir()]\n",
    "paths"
   ]
  },
  {
   "cell_type": "code",
   "execution_count": 5,
   "metadata": {},
   "outputs": [
    {
     "name": "stdout",
     "output_type": "stream",
     "text": [
      "Process IBSR_12.\n"
     ]
    },
    {
     "data": {
      "application/vnd.jupyter.widget-view+json": {
       "model_id": "4ad5455390ca4a3cbb6b9832beb57896",
       "version_major": 2,
       "version_minor": 0
      },
      "text/plain": [
       "HBox(children=(IntProgress(value=0, max=128), HTML(value='')))"
      ]
     },
     "metadata": {},
     "output_type": "display_data"
    },
    {
     "name": "stdout",
     "output_type": "stream",
     "text": [
      "\n",
      "Process IBSR_16.\n"
     ]
    },
    {
     "data": {
      "application/vnd.jupyter.widget-view+json": {
       "model_id": "d71dd1e12589440ba02a17af119635d6",
       "version_major": 2,
       "version_minor": 0
      },
      "text/plain": [
       "HBox(children=(IntProgress(value=0, max=128), HTML(value='')))"
      ]
     },
     "metadata": {},
     "output_type": "display_data"
    },
    {
     "name": "stdout",
     "output_type": "stream",
     "text": [
      "\n",
      "Process IBSR_10.\n"
     ]
    },
    {
     "data": {
      "application/vnd.jupyter.widget-view+json": {
       "model_id": "392ed89e274c4c32956164bd40bfb9c8",
       "version_major": 2,
       "version_minor": 0
      },
      "text/plain": [
       "HBox(children=(IntProgress(value=0, max=128), HTML(value='')))"
      ]
     },
     "metadata": {},
     "output_type": "display_data"
    },
    {
     "name": "stdout",
     "output_type": "stream",
     "text": [
      "\n",
      "Process IBSR_18.\n"
     ]
    },
    {
     "data": {
      "application/vnd.jupyter.widget-view+json": {
       "model_id": "e6678ef4ff404732a149e20b14840def",
       "version_major": 2,
       "version_minor": 0
      },
      "text/plain": [
       "HBox(children=(IntProgress(value=0, max=128), HTML(value='')))"
      ]
     },
     "metadata": {},
     "output_type": "display_data"
    },
    {
     "name": "stdout",
     "output_type": "stream",
     "text": [
      "\n",
      "Process IBSR_08.\n"
     ]
    },
    {
     "data": {
      "application/vnd.jupyter.widget-view+json": {
       "model_id": "ac1491c474654ca68bba20a7c82955c2",
       "version_major": 2,
       "version_minor": 0
      },
      "text/plain": [
       "HBox(children=(IntProgress(value=0, max=128), HTML(value='')))"
      ]
     },
     "metadata": {},
     "output_type": "display_data"
    },
    {
     "name": "stdout",
     "output_type": "stream",
     "text": [
      "\n",
      "Process IBSR_03.\n"
     ]
    },
    {
     "data": {
      "application/vnd.jupyter.widget-view+json": {
       "model_id": "0c66b7c56f074f019178afeb6325b3be",
       "version_major": 2,
       "version_minor": 0
      },
      "text/plain": [
       "HBox(children=(IntProgress(value=0, max=128), HTML(value='')))"
      ]
     },
     "metadata": {},
     "output_type": "display_data"
    },
    {
     "name": "stdout",
     "output_type": "stream",
     "text": [
      "\n",
      "Process IBSR_13.\n"
     ]
    },
    {
     "data": {
      "application/vnd.jupyter.widget-view+json": {
       "model_id": "877ac0da66a24b70b4959c65f9768104",
       "version_major": 2,
       "version_minor": 0
      },
      "text/plain": [
       "HBox(children=(IntProgress(value=0, max=128), HTML(value='')))"
      ]
     },
     "metadata": {},
     "output_type": "display_data"
    },
    {
     "name": "stdout",
     "output_type": "stream",
     "text": [
      "\n",
      "Process IBSR_11.\n"
     ]
    },
    {
     "data": {
      "application/vnd.jupyter.widget-view+json": {
       "model_id": "f444c7991cac470c94429fe7787c3af7",
       "version_major": 2,
       "version_minor": 0
      },
      "text/plain": [
       "HBox(children=(IntProgress(value=0, max=128), HTML(value='')))"
      ]
     },
     "metadata": {},
     "output_type": "display_data"
    },
    {
     "name": "stdout",
     "output_type": "stream",
     "text": [
      "\n",
      "Process IBSR_15.\n"
     ]
    },
    {
     "data": {
      "application/vnd.jupyter.widget-view+json": {
       "model_id": "38fab1c0f99b41b78afdd21b4c7386be",
       "version_major": 2,
       "version_minor": 0
      },
      "text/plain": [
       "HBox(children=(IntProgress(value=0, max=128), HTML(value='')))"
      ]
     },
     "metadata": {},
     "output_type": "display_data"
    },
    {
     "name": "stdout",
     "output_type": "stream",
     "text": [
      "\n",
      "Process IBSR_07.\n"
     ]
    },
    {
     "data": {
      "application/vnd.jupyter.widget-view+json": {
       "model_id": "0c6142ba802240f99b5fca6e9eeaf51d",
       "version_major": 2,
       "version_minor": 0
      },
      "text/plain": [
       "HBox(children=(IntProgress(value=0, max=128), HTML(value='')))"
      ]
     },
     "metadata": {},
     "output_type": "display_data"
    },
    {
     "name": "stdout",
     "output_type": "stream",
     "text": [
      "\n",
      "Process IBSR_09.\n"
     ]
    },
    {
     "data": {
      "application/vnd.jupyter.widget-view+json": {
       "model_id": "2f7c2dc9b0ad44b69f90136686c72e76",
       "version_major": 2,
       "version_minor": 0
      },
      "text/plain": [
       "HBox(children=(IntProgress(value=0, max=128), HTML(value='')))"
      ]
     },
     "metadata": {},
     "output_type": "display_data"
    },
    {
     "name": "stdout",
     "output_type": "stream",
     "text": [
      "\n",
      "Process IBSR_06.\n"
     ]
    },
    {
     "data": {
      "application/vnd.jupyter.widget-view+json": {
       "model_id": "c71ef1d8a62940afaa78ecb5dbc2f062",
       "version_major": 2,
       "version_minor": 0
      },
      "text/plain": [
       "HBox(children=(IntProgress(value=0, max=128), HTML(value='')))"
      ]
     },
     "metadata": {},
     "output_type": "display_data"
    },
    {
     "name": "stdout",
     "output_type": "stream",
     "text": [
      "\n",
      "Process IBSR_14.\n"
     ]
    },
    {
     "data": {
      "application/vnd.jupyter.widget-view+json": {
       "model_id": "ff46fde483e34d5aa3330db24ccab8ce",
       "version_major": 2,
       "version_minor": 0
      },
      "text/plain": [
       "HBox(children=(IntProgress(value=0, max=128), HTML(value='')))"
      ]
     },
     "metadata": {},
     "output_type": "display_data"
    },
    {
     "name": "stdout",
     "output_type": "stream",
     "text": [
      "\n",
      "Process IBSR_17.\n"
     ]
    },
    {
     "data": {
      "application/vnd.jupyter.widget-view+json": {
       "model_id": "83fdcb0bc70240a8b7b884c1fca0b6fb",
       "version_major": 2,
       "version_minor": 0
      },
      "text/plain": [
       "HBox(children=(IntProgress(value=0, max=128), HTML(value='')))"
      ]
     },
     "metadata": {},
     "output_type": "display_data"
    },
    {
     "name": "stdout",
     "output_type": "stream",
     "text": [
      "\n",
      "Process IBSR_02.\n"
     ]
    },
    {
     "data": {
      "application/vnd.jupyter.widget-view+json": {
       "model_id": "162eb79273e84f98b1f46789a6812650",
       "version_major": 2,
       "version_minor": 0
      },
      "text/plain": [
       "HBox(children=(IntProgress(value=0, max=128), HTML(value='')))"
      ]
     },
     "metadata": {},
     "output_type": "display_data"
    },
    {
     "name": "stdout",
     "output_type": "stream",
     "text": [
      "\n",
      "Process IBSR_01.\n"
     ]
    },
    {
     "data": {
      "application/vnd.jupyter.widget-view+json": {
       "model_id": "90af88597d1c4fbe91e78116cc63810a",
       "version_major": 2,
       "version_minor": 0
      },
      "text/plain": [
       "HBox(children=(IntProgress(value=0, max=128), HTML(value='')))"
      ]
     },
     "metadata": {},
     "output_type": "display_data"
    },
    {
     "name": "stdout",
     "output_type": "stream",
     "text": [
      "\n",
      "Process IBSR_04.\n"
     ]
    },
    {
     "data": {
      "application/vnd.jupyter.widget-view+json": {
       "model_id": "f001692a552443db99d9851532215fcf",
       "version_major": 2,
       "version_minor": 0
      },
      "text/plain": [
       "HBox(children=(IntProgress(value=0, max=128), HTML(value='')))"
      ]
     },
     "metadata": {},
     "output_type": "display_data"
    },
    {
     "name": "stdout",
     "output_type": "stream",
     "text": [
      "\n",
      "Process IBSR_05.\n"
     ]
    },
    {
     "data": {
      "application/vnd.jupyter.widget-view+json": {
       "model_id": "5fcaa02491a14eb5a6da31b3d37ab3cb",
       "version_major": 2,
       "version_minor": 0
      },
      "text/plain": [
       "HBox(children=(IntProgress(value=0, max=128), HTML(value='')))"
      ]
     },
     "metadata": {},
     "output_type": "display_data"
    },
    {
     "name": "stdout",
     "output_type": "stream",
     "text": [
      "\n"
     ]
    }
   ],
   "source": [
    "IMG_MIN_SIZE = 64\n",
    "N_SEG = 512\n",
    "COMPACTNESS = 10\n",
    "N_VERTEX = 512\n",
    "N_FEATURES = 32\n",
    "TAO = 1.0\n",
    "THRESHOLD = 0.3\n",
    "\n",
    "for path in paths:\n",
    "    #logging.info(f'Process {path.parts[-1]}.')\n",
    "    print(f'Process {path.parts[-1]}.')\n",
    "    # Create output directory\n",
    "    if not (output_dir / path.parts[-1]).is_dir():\n",
    "        (output_dir / path.parts[-1]).mkdir(parents=True)\n",
    "\n",
    "    # Read in the MRI scans\n",
    "    image = nib.load(str(path / 'image.nii.gz')).get_data().astype(np.float32)\n",
    "    image = np.squeeze(image, 3)\n",
    "    image = image.transpose(2, 0, 1)\n",
    "    label = nib.load(str(path / 'label.nii.gz')).get_data().astype(np.uint8)\n",
    "    label = np.squeeze(label, 3)\n",
    "    label = label.transpose(2, 0, 1)\n",
    "\n",
    "    # Save each slice of the scan into single file\n",
    "    for s in tqdm(range(image.shape[0])):\n",
    "        if s>=5 and s<=115:\n",
    "            _image = image[s]\n",
    "            _label = label[s]\n",
    "            #nib.save(nib.Nifti1Image(_image, np.eye(4)), str(output_dir / path.parts[-1] / f'image_{s}.nii.gz'))\n",
    "            #nib.save(nib.Nifti1Image(_label, np.eye(4)), str(output_dir / path.parts[-1] / f'label_{s}.nii.gz'))\n",
    "            img_crop, label_crop = various_crop(_image, _label, IMG_MIN_SIZE)\n",
    "            img_crop = max_min_normalize(img_crop)\n",
    "            img_3c = np.expand_dims(img_crop, axis=2)\n",
    "            img_3c = np.concatenate((img_3c, img_3c, img_3c), 2)\n",
    "            \n",
    "            segments = slic(img_3c.astype('double'), n_segments=N_SEG, compactness=COMPACTNESS)\n",
    "            features = feature_extract(img_crop, segments, N_VERTEX, N_FEATURES)\n",
    "            #adj_arr = adj_generate(features, segments, TAO, THRESHOLD)\n",
    "            \n",
    "            np.save(str(output_dir / path.parts[-1] / f'image_{s}.npy'), _image)\n",
    "            np.save(str(output_dir / path.parts[-1] / f'label_{s}.npy'), _label)\n",
    "            np.save(str(output_dir / path.parts[-1] / f'segments_{s}.npy'), segments)\n",
    "            np.save(str(output_dir / path.parts[-1] / f'features_{s}.npy'), features)\n",
    "            #np.save(str(output_dir / path.parts[-1] / f'adj_arr_{s}.npy'), adj_arr)\n"
   ]
  },
  {
   "cell_type": "code",
   "execution_count": null,
   "metadata": {},
   "outputs": [],
   "source": []
  },
  {
   "cell_type": "code",
   "execution_count": null,
   "metadata": {},
   "outputs": [],
   "source": []
  },
  {
   "cell_type": "code",
   "execution_count": null,
   "metadata": {},
   "outputs": [],
   "source": []
  },
  {
   "cell_type": "code",
   "execution_count": null,
   "metadata": {},
   "outputs": [],
   "source": []
  },
  {
   "cell_type": "code",
   "execution_count": 2,
   "metadata": {},
   "outputs": [],
   "source": [
    "_dir = Path('/home/tony/Documents/IBSR_preprocessed_2d/IBSR_11')\n",
    "image = np.load(_dir / f'image_{50}.npy').astype(np.float32)\n",
    "label = np.load(_dir / f'label_{50}.npy').astype(np.int32)\n",
    "segments = np.load(_dir / f'segments_{50}.npy').astype(np.float32)\n",
    "features = np.load(_dir / f'features_{50}.npy').astype(np.float32)\n",
    "adj_arr = np.load(_dir / f'adj_arr_{50}.npy').astype(np.float32)\n"
   ]
  },
  {
   "cell_type": "code",
   "execution_count": 14,
   "metadata": {},
   "outputs": [
    {
     "data": {
      "text/plain": [
       "<matplotlib.image.AxesImage at 0x7fc955bee198>"
      ]
     },
     "execution_count": 14,
     "metadata": {},
     "output_type": "execute_result"
    },
    {
     "data": {
      "image/png": "[encoded data removed]",
      "text/plain": [
       "<Figure size 432x288 with 1 Axes>"
      ]
     },
     "metadata": {
      "needs_background": "light"
     },
     "output_type": "display_data"
    }
   ],
   "source": [
    "plt.imshow(image)"
   ]
  },
  {
   "cell_type": "code",
   "execution_count": 15,
   "metadata": {},
   "outputs": [
    {
     "data": {
      "text/plain": [
       "<matplotlib.image.AxesImage at 0x7fc955b72860>"
      ]
     },
     "execution_count": 15,
     "metadata": {},
     "output_type": "execute_result"
    },
    {
     "data": {
      "image/png": "[encoded data removed]",
      "text/plain": [
       "<Figure size 432x288 with 1 Axes>"
      ]
     },
     "metadata": {
      "needs_background": "light"
     },
     "output_type": "display_data"
    }
   ],
   "source": [
    "plt.imshow(label)"
   ]
  },
  {
   "cell_type": "code",
   "execution_count": 17,
   "metadata": {},
   "outputs": [
    {
     "data": {
      "text/plain": [
       "<matplotlib.image.AxesImage at 0x7fc955aa4b00>"
      ]
     },
     "execution_count": 17,
     "metadata": {},
     "output_type": "execute_result"
    },
    {
     "data": {
      "image/png": "[encoded data removed]",
      "text/plain": [
       "<Figure size 432x288 with 1 Axes>"
      ]
     },
     "metadata": {
      "needs_background": "light"
     },
     "output_type": "display_data"
    }
   ],
   "source": [
    "plt.imshow(adj_arr)"
   ]
  },
  {
   "cell_type": "code",
   "execution_count": 22,
   "metadata": {},
   "outputs": [
    {
     "data": {
      "text/plain": [
       "<matplotlib.image.AxesImage at 0x7f667f9fa9b0>"
      ]
     },
     "execution_count": 22,
     "metadata": {},
     "output_type": "execute_result"
    },
    {
     "data": {
      "image/png": "[encoded data removed]",
      "text/plain": [
       "<Figure size 432x288 with 2 Axes>"
      ]
     },
     "metadata": {
      "needs_background": "light"
     },
     "output_type": "display_data"
    }
   ],
   "source": [
    "plt.subplot(211)\n",
    "plt.imshow(image)\n",
    "plt.subplot(212)\n",
    "plt.imshow(label)"
   ]
  },
  {
   "cell_type": "code",
   "execution_count": 23,
   "metadata": {},
   "outputs": [],
   "source": [
    "img_crop, label_crop = various_crop(image, label, 100)\n",
    "img_crop = max_min_normalize(img_crop)\n",
    "img_3c = np.expand_dims(img_crop, axis=2)\n",
    "img_3c = np.concatenate((img_3c, img_3c, img_3c), 2)"
   ]
  },
  {
   "cell_type": "code",
   "execution_count": 24,
   "metadata": {},
   "outputs": [
    {
     "data": {
      "text/plain": [
       "<matplotlib.image.AxesImage at 0x7f667f9339b0>"
      ]
     },
     "execution_count": 24,
     "metadata": {},
     "output_type": "execute_result"
    },
    {
     "data": {
      "image/png": "[encoded data removed]",
      "text/plain": [
       "<Figure size 432x288 with 2 Axes>"
      ]
     },
     "metadata": {
      "needs_background": "light"
     },
     "output_type": "display_data"
    }
   ],
   "source": [
    "n_seg = 512\n",
    "compact = 10\n",
    "segments = slic(img_3c.astype('double'), n_segments=n_seg, compactness=compact)\n",
    "label_recon = np.zeros((label_crop.shape[0], label_crop.shape[1]))\n",
    "for i in range(segments.max()+1):\n",
    "    label_recon[np.where(segments==i)] = int(np.median(label_crop[np.where(segments==i)]))\n",
    "plt.subplot(211)\n",
    "plt.imshow(label_recon)\n",
    "plt.subplot(212)\n",
    "plt.imshow(label_crop)"
   ]
  },
  {
   "cell_type": "code",
   "execution_count": null,
   "metadata": {},
   "outputs": [],
   "source": []
  }
 ],
 "metadata": {
  "kernelspec": {
   "display_name": "torchenv",
   "language": "python",
   "name": "torchenv"
  },
  "language_info": {
   "codemirror_mode": {
    "name": "ipython",
    "version": 3
   },
   "file_extension": ".py",
   "mimetype": "text/x-python",
   "name": "python",
   "nbconvert_exporter": "python",
   "pygments_lexer": "ipython3",
   "version": "3.7.3"
  }
 },
 "nbformat": 4,
 "nbformat_minor": 2
}
