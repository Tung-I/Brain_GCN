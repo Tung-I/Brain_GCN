{
 "cells": [
  {
   "cell_type": "code",
   "execution_count": 126,
   "metadata": {},
   "outputs": [],
   "source": [
    "import numpy as np\n",
    "import nibabel as nib\n",
    "import random\n",
    "import logging\n",
    "import argparse\n",
    "import matplotlib.pyplot as plt\n",
    "from pathlib import Path\n"
   ]
  },
  {
   "cell_type": "code",
   "execution_count": 108,
   "metadata": {},
   "outputs": [],
   "source": [
    "data_dir = Path('/home/tony/Documents/IBSR_nifti_stripped/')\n",
    "output_dir = Path('/home/tony/Documents/IBSR_preprocessed/')\n",
    "\n",
    "\n",
    "dirs = [_dir for _dir in data_dir.iterdir() if _dir.is_dir()]\n",
    "for _dir in dirs:\n",
    "    logging.info(f'Process {_dir.parts[-1]}.')\n",
    "    if not (output_dir / _dir.parts[-1]).is_dir():\n",
    "            (output_dir / _dir.parts[-1]).mkdir(parents=True)\n",
    "    img_path = (_dir / f'{_dir.parts[-1]}_ana.nii.gz')\n",
    "    mask_path = (_dir / f'{_dir.parts[-1]}_ana_brainmask.nii.gz')\n",
    "    label_path = (_dir / f'{_dir.parts[-1]}_segTRI_fill_ana.nii.gz')\n",
    "    \n",
    "    # switch the axes\n",
    "    img = nib.load(str(img_path)).get_data().astype(np.float32)\n",
    "    mask = nib.load(str(mask_path)).get_data().astype(np.uint8)\n",
    "    mask = np.swapaxes(mask, 1, 2)\n",
    "    label = nib.load(str(label_path)).get_data().astype(np.uint8)\n",
    "    label = np.swapaxes(label, 1, 2)\n",
    "    \n",
    "    # check and clean the data\n",
    "    if (np.where(mask<0)[0].size!=0 or np.where(mask>1)[0].size!=0):\n",
    "        print('exception!')\n",
    "        mask[np.where(mask!=1)] = 0\n",
    "    if (np.where(label<0)[0].size!=0 or np.where(label>3)[0].size!=0):\n",
    "        print('exception!')\n",
    "        label[np.where(label<0)] = 0\n",
    "        label[np.where(label>3)] = 0\n",
    "    \n",
    "    img = img * mask\n",
    "    \n",
    "    # rotate the image\n",
    "    img = np.rot90(img, 1, (0,1))\n",
    "    mask = np.rot90(mask, 1, (0,1))\n",
    "    label = np.rot90(label, 1, (0,1))\n",
    "    \n",
    "    nib.save(nib.Nifti1Image(img, np.eye(4)), str(output_dir / _dir.parts[-1] / f'image.nii.gz'))\n",
    "    nib.save(nib.Nifti1Image(mask, np.eye(4)), str(output_dir / _dir.parts[-1] / f'mask.nii.gz'))\n",
    "    nib.save(nib.Nifti1Image(label, np.eye(4)), str(output_dir / _dir.parts[-1] / f'label.nii.gz'))\n"
   ]
  },
  {
   "cell_type": "code",
   "execution_count": 147,
   "metadata": {},
   "outputs": [
    {
     "data": {
      "image/png": "[encoded data removed]",
      "text/plain": [
       "<Figure size 432x288 with 10 Axes>"
      ]
     },
     "metadata": {
      "needs_background": "light"
     },
     "output_type": "display_data"
    },
    {
     "data": {
      "image/png": "[encoded data removed]",
      "text/plain": [
       "<Figure size 432x288 with 10 Axes>"
      ]
     },
     "metadata": {
      "needs_background": "light"
     },
     "output_type": "display_data"
    },
    {
     "data": {
      "image/png": "[encoded data removed]",
      "text/plain": [
       "<Figure size 432x288 with 10 Axes>"
      ]
     },
     "metadata": {
      "needs_background": "light"
     },
     "output_type": "display_data"
    }
   ],
   "source": [
    "# check results\n",
    "data_dir = Path('/home/tony/Documents/IBSR_preprocessed/')\n",
    "dirs = [_dir for _dir in data_dir.iterdir() if _dir.is_dir()]\n",
    "picked = []\n",
    "while(len(picked)<10):\n",
    "    n = random.randint(0, 127)\n",
    "    picked.append(n)\n",
    "    picked = list(np.unique(picked))\n",
    "\n",
    "dir_picked = random.randint(0, 17)\n",
    "_dir = dirs[dir_picked]\n",
    "\n",
    "for i, d_picked in enumerate(picked):\n",
    "    img = nib.load(str(_dir / f'image.nii.gz')).get_data().astype(np.float32)\n",
    "    mask = nib.load(str(_dir / f'mask.nii.gz')).get_data().astype(np.uint8)\n",
    "    label = nib.load(str(_dir / f'label.nii.gz')).get_data().astype(np.uint8)\n",
    "    plt.figure('f1')\n",
    "    plt.subplot(1, 10, i+1)\n",
    "    plt.imshow(img[:, :, d_picked, 0])\n",
    "    plt.figure('f2')\n",
    "    plt.subplot(1, 10, i+1)\n",
    "    plt.imshow(mask[:, :, d_picked, 0])\n",
    "    plt.figure('f3')\n",
    "    plt.subplot(1, 10, i+1)\n",
    "    plt.imshow(label[:, :, d_picked, 0])"
   ]
  },
  {
   "cell_type": "code",
   "execution_count": null,
   "metadata": {},
   "outputs": [],
   "source": []
  }
 ],
 "metadata": {
  "kernelspec": {
   "display_name": "thetorch",
   "language": "python",
   "name": "thetorch"
  },
  "language_info": {
   "codemirror_mode": {
    "name": "ipython",
    "version": 3
   },
   "file_extension": ".py",
   "mimetype": "text/x-python",
   "name": "python",
   "nbconvert_exporter": "python",
   "pygments_lexer": "ipython3",
   "version": "3.7.3"
  }
 },
 "nbformat": 4,
 "nbformat_minor": 2
}
