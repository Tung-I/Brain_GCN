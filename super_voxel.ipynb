{
 "cells": [
  {
   "cell_type": "code",
   "execution_count": 1,
   "metadata": {},
   "outputs": [],
   "source": [
    "import numpy as np\n",
    "import random\n",
    "import nibabel as nib\n",
    "import matplotlib.pyplot as plt\n",
    "import math\n",
    "from skimage.segmentation import slic\n",
    "from skimage.segmentation import mark_boundaries"
   ]
  },
  {
   "cell_type": "code",
   "execution_count": 2,
   "metadata": {},
   "outputs": [],
   "source": [
    "def max_min_normalize(img):\n",
    "    img = np.asarray(img)\n",
    "    return (img-np.min(img)) / (np.max(img)-np.min(img))\n",
    "    "
   ]
  },
  {
   "cell_type": "code",
   "execution_count": 3,
   "metadata": {},
   "outputs": [],
   "source": [
    "img = nib.load('/home/tony/Documents/IBSR_preprocessed_2d/IBSR_01/image_80.nii.gz').get_data().astype(np.float32)\n",
    "#img = nib.load('/home/tony/Documents/IBSR_preprocessed_2d/IBSR_01/image_80.nii.gz').get_data().astype(np.int64)\n",
    "label = nib.load('/home/tony/Documents/IBSR_preprocessed_2d/IBSR_01/label_80.nii.gz').get_data().astype(np.int64)\n",
    "#img = (max_min_normalize(img)*255).astype(int)\n",
    "#img = max_min_normalize(img)\n",
    "img = np.expand_dims(img, axis=2)\n",
    "img = np.concatenate((img, img, img), 2)\n",
    "segments = slic(img.astype('double'), n_segments=2000, compactness=30)"
   ]
  },
  {
   "cell_type": "code",
   "execution_count": 4,
   "metadata": {},
   "outputs": [
    {
     "name": "stderr",
     "output_type": "stream",
     "text": [
      "Clipping input data to the valid range for imshow with RGB data ([0..1] for floats or [0..255] for integers).\n"
     ]
    },
    {
     "data": {
      "text/plain": [
       "<matplotlib.image.AxesImage at 0x7fba9d991da0>"
      ]
     },
     "execution_count": 4,
     "metadata": {},
     "output_type": "execute_result"
    },
    {
     "data": {
      "image/png": "[encoded data removed]",
      "text/plain": [
       "<Figure size 432x288 with 1 Axes>"
      ]
     },
     "metadata": {
      "needs_background": "light"
     },
     "output_type": "display_data"
    }
   ],
   "source": [
    "plt.imshow(img)"
   ]
  },
  {
   "cell_type": "code",
   "execution_count": 581,
   "metadata": {},
   "outputs": [
    {
     "data": {
      "text/plain": [
       "1587"
      ]
     },
     "execution_count": 581,
     "metadata": {},
     "output_type": "execute_result"
    }
   ],
   "source": [
    "segments.max()"
   ]
  },
  {
   "cell_type": "code",
   "execution_count": 582,
   "metadata": {},
   "outputs": [
    {
     "data": {
      "text/plain": [
       "<matplotlib.image.AxesImage at 0x7f910b7f9240>"
      ]
     },
     "execution_count": 582,
     "metadata": {},
     "output_type": "execute_result"
    },
    {
     "data": {
      "image/png": "[encoded data removed]",
      "text/plain": [
       "<Figure size 432x288 with 1 Axes>"
      ]
     },
     "metadata": {
      "needs_background": "light"
     },
     "output_type": "display_data"
    }
   ],
   "source": [
    "plt.imshow(mark_boundaries(img,segments))"
   ]
  },
  {
   "cell_type": "code",
   "execution_count": 583,
   "metadata": {},
   "outputs": [
    {
     "data": {
      "text/plain": [
       "<matplotlib.image.AxesImage at 0x7f910b75a8d0>"
      ]
     },
     "execution_count": 583,
     "metadata": {},
     "output_type": "execute_result"
    },
    {
     "data": {
      "image/png": "[encoded data removed]",
      "text/plain": [
       "<Figure size 432x288 with 1 Axes>"
      ]
     },
     "metadata": {
      "needs_background": "light"
     },
     "output_type": "display_data"
    }
   ],
   "source": [
    "n_vertex = 2000\n",
    "n_class = 4\n",
    "f_label = np.zeros(n_vertex)\n",
    "\n",
    "for i in range(segments.max()+1):\n",
    "    h = int(np.where(segments==i)[0].mean())\n",
    "    w = int(np.where(segments==i)[1].mean())\n",
    "    f_label[i] = label[h, w]\n",
    "\n",
    "label_new = np.zeros((label.shape[0], label.shape[1]))\n",
    "for i in range(segments.max()+1):\n",
    "    label_new[np.where(segments==i)] = f_label[i]\n",
    "plt.imshow(label_new)"
   ]
  },
  {
   "cell_type": "code",
   "execution_count": null,
   "metadata": {},
   "outputs": [],
   "source": []
  },
  {
   "cell_type": "code",
   "execution_count": null,
   "metadata": {},
   "outputs": [],
   "source": []
  },
  {
   "cell_type": "code",
   "execution_count": 246,
   "metadata": {},
   "outputs": [],
   "source": [
    "def feature_extract(img, segments, f_range=5, n_vertex=256, tao=0.1):\n",
    "    step = math.floor(f_range/2)\n",
    "    n_segments = np.max(segments) + 1\n",
    "    centroid_list = []\n",
    "    for i in range(n_vertex):\n",
    "        if i < n_segments:\n",
    "            h_mean = int(np.where(segments==i)[0].mean())\n",
    "            w_mean = int(np.where(segments==i)[1].mean())\n",
    "            centroid_list.append((h_mean, w_mean))\n",
    "        else:\n",
    "            h_mean = int(np.where(segments==0)[0].mean())\n",
    "            w_mean = int(np.where(segments==0)[1].mean())\n",
    "            centroid_list.append((h_mean, w_mean))\n",
    "    \n",
    "    features = np.zeros((n_vertex, f_range*f_range))\n",
    "    for i in range(n_vertex):\n",
    "        h, w = centroid_list[i]\n",
    "        features[i] = img[h-step:h+step+1, w-step:w+step+1, 0].flatten() \n",
    "        \n",
    "    aj_arr = np.zeros((n_vertex, n_vertex))\n",
    "    for i in range(n_vertex):\n",
    "        for j in range(n_vertex):\n",
    "            diff = features[i] - features[j]\n",
    "            diff = np.power(diff, 2)\n",
    "#             for k in range(diff.shape[0]):\n",
    "#                 diff[k] = math.pow(diff[k], 2)\n",
    "            l2_norm_square = diff.sum()   \n",
    "            aj_arr[i, j] = math.exp(-l2_norm_square / (2*tao*tao))\n",
    "    \n",
    "    return features, aj_arr"
   ]
  },
  {
   "cell_type": "code",
   "execution_count": 247,
   "metadata": {},
   "outputs": [],
   "source": [
    "def back_to_label(segments, class_output):\n",
    "    output = np.zeros((segments.shape[0], segments.shape[1]))\n",
    "    for i in range(class_output.shape[0]):\n",
    "        output[np.where(segments==i)] = class_output[i]\n",
    "    return output"
   ]
  },
  {
   "cell_type": "code",
   "execution_count": 260,
   "metadata": {},
   "outputs": [],
   "source": [
    "f, a = feature_extract(img, segments, 7, 300, 7)"
   ]
  },
  {
   "cell_type": "code",
   "execution_count": 259,
   "metadata": {},
   "outputs": [
    {
     "data": {
      "text/plain": [
       "<matplotlib.image.AxesImage at 0x7f911d5d6898>"
      ]
     },
     "execution_count": 259,
     "metadata": {},
     "output_type": "execute_result"
    },
    {
     "data": {
      "image/png": "[encoded data removed]",
      "text/plain": [
       "<Figure size 432x288 with 1 Axes>"
      ]
     },
     "metadata": {
      "needs_background": "light"
     },
     "output_type": "display_data"
    }
   ],
   "source": [
    "class_output = np.asarray([3]*50 + [2]*30 + [1]*70)\n",
    "output = back_to_label(segments, class_output)\n",
    "plt.imshow(output)"
   ]
  },
  {
   "cell_type": "code",
   "execution_count": null,
   "metadata": {},
   "outputs": [],
   "source": []
  },
  {
   "cell_type": "code",
   "execution_count": null,
   "metadata": {},
   "outputs": [],
   "source": []
  },
  {
   "cell_type": "code",
   "execution_count": 203,
   "metadata": {},
   "outputs": [],
   "source": [
    "def vertex_set(img, segments, filter_size, num):\n",
    "    step = math.floor(filter_size/2)\n",
    "    num_of_segments = np.max(segments) + 1\n",
    "    centroid_list = []\n",
    "    for i in range(num_of_segments):\n",
    "        h_mean = int(np.where(segments==i)[0].mean())\n",
    "        w_mean = int(np.where(segments==i)[1].mean())\n",
    "        val_mean = img[h_mean-step:h_mean+step+1, w_mean-step:w_mean+step+1].mean()\n",
    "        centroid_list.append((h_mean, w_mean, val_mean))\n",
    "        centroid_list.sort(key = itemgetter(2), reverse=True)\n",
    "    \n",
    "    features = np.zeros((num, filter_size*filter_size))\n",
    "    for i in range(num):\n",
    "        h, w, v = centroid_list[i]\n",
    "        features[i] = img[h-step:h+step+1, w-step:w+step+1, 0].flatten() \n",
    "    \n",
    "    return features, centroid_list"
   ]
  },
  {
   "cell_type": "code",
   "execution_count": 204,
   "metadata": {},
   "outputs": [],
   "source": [
    "def adjacency_array(features, tao):\n",
    "    n = features.shape[0]\n",
    "    aj_arr = np.zeros((n, n))\n",
    "    for i in range(n):\n",
    "        for j in range(n):\n",
    "            diff = features[i] - features[j]\n",
    "            for k in range(diff.shape[0]):\n",
    "                diff[k] = math.pow(diff[k], 2)\n",
    "            l2_norm_square = diff.sum()   \n",
    "            aj_arr[i, j] = math.exp(-l2_norm_square / (2*tao*tao))\n",
    "    return aj_arr"
   ]
  },
  {
   "cell_type": "code",
   "execution_count": 205,
   "metadata": {},
   "outputs": [],
   "source": [
    "features, centroid_list = vertex_set(img, segments, 7, 150)"
   ]
  },
  {
   "cell_type": "code",
   "execution_count": 206,
   "metadata": {},
   "outputs": [],
   "source": [
    "aj_arr = adjacency_array(features, 0.5)"
   ]
  },
  {
   "cell_type": "code",
   "execution_count": 207,
   "metadata": {},
   "outputs": [],
   "source": [
    "def back_to_label(segments, class_output, centroid_list):\n",
    "    output = np.zeros((segments.shape[0], segments.shape[1]))\n",
    "    for i in range(class_output.shape[0]):\n",
    "        h = centroid_list[i][0]\n",
    "        w = centroid_list[i][1]\n",
    "        lab_num = segments[h, w]\n",
    "        output[np.where(segments==lab_num)] = class_output[i]\n",
    "    return output"
   ]
  },
  {
   "cell_type": "code",
   "execution_count": 208,
   "metadata": {},
   "outputs": [
    {
     "data": {
      "text/plain": [
       "<matplotlib.image.AxesImage at 0x7f911d932eb8>"
      ]
     },
     "execution_count": 208,
     "metadata": {},
     "output_type": "execute_result"
    },
    {
     "data": {
      "image/png": "[encoded data removed]",
      "text/plain": [
       "<Figure size 432x288 with 1 Axes>"
      ]
     },
     "metadata": {
      "needs_background": "light"
     },
     "output_type": "display_data"
    }
   ],
   "source": [
    "class_output = np.asarray([3]*50 + [2]*30 + [1]*70)\n",
    "output = back_to_label(segments, class_output, centroid_list)\n",
    "plt.imshow(output)"
   ]
  },
  {
   "cell_type": "code",
   "execution_count": null,
   "metadata": {},
   "outputs": [],
   "source": []
  },
  {
   "cell_type": "code",
   "execution_count": null,
   "metadata": {},
   "outputs": [],
   "source": []
  },
  {
   "cell_type": "code",
   "execution_count": 109,
   "metadata": {},
   "outputs": [],
   "source": [
    "info = np.zeros((img.shape[0], img.shape[1], 3))\n",
    "n = 7\n",
    "step = math.floor(n/2)\n",
    "# for c in centroid_list:\n",
    "#     for i in range(c[0]-3, c[0]+3+1):\n",
    "#         for j in range(c[1]-3, c[1]+3+1):\n",
    "#             info[i, j, 0] = img[i, j, 0] \n",
    "#             info[i, j, 1] = img[i, j, 1] \n",
    "#             info[i, j, 2] = img[i, j, 2] \n",
    "\n",
    "for c in centroid_list:\n",
    "    info[c[0]-step:c[0]+step+1, c[1]-step:c[1]+step+1] = img[c[0]-step:c[0]+step+1, c[1]-step:c[1]+step+1]"
   ]
  },
  {
   "cell_type": "code",
   "execution_count": 134,
   "metadata": {},
   "outputs": [
    {
     "data": {
      "text/plain": [
       "<matplotlib.image.AxesImage at 0x7f911dc862b0>"
      ]
     },
     "execution_count": 134,
     "metadata": {},
     "output_type": "execute_result"
    },
    {
     "data": {
      "image/png": "[encoded data removed]",
      "text/plain": [
       "<Figure size 432x288 with 1 Axes>"
      ]
     },
     "metadata": {
      "needs_background": "light"
     },
     "output_type": "display_data"
    }
   ],
   "source": [
    "plt.imshow(info)"
   ]
  },
  {
   "cell_type": "code",
   "execution_count": null,
   "metadata": {},
   "outputs": [],
   "source": []
  },
  {
   "cell_type": "code",
   "execution_count": null,
   "metadata": {},
   "outputs": [],
   "source": []
  },
  {
   "cell_type": "code",
   "execution_count": 538,
   "metadata": {},
   "outputs": [
    {
     "data": {
      "image/png": "[encoded data removed]",
      "text/plain": [
       "<Figure size 432x288 with 2 Axes>"
      ]
     },
     "metadata": {
      "needs_background": "light"
     },
     "output_type": "display_data"
    }
   ],
   "source": [
    "image = nib.load('/home/tony/Documents/IBSR_preprocessed_2d/IBSR_01/image_80.nii.gz').get_data().astype(np.float32)\n",
    "label = nib.load('/home/tony/Documents/IBSR_preprocessed_2d/IBSR_01/label_80.nii.gz').get_data().astype(np.int64)\n",
    "plt.subplot(121)\n",
    "plt.imshow(image)\n",
    "plt.subplot(122)\n",
    "plt.imshow(label)\n",
    "image = max_min_normalize(image)\n",
    "image = np.expand_dims(image, axis=2)\n",
    "\n",
    "image = np.concatenate((image, image, image), 2)\n",
    "segments = slic(image.astype('double'), n_segments=2000, compactness=20)"
   ]
  },
  {
   "cell_type": "code",
   "execution_count": 539,
   "metadata": {},
   "outputs": [
    {
     "data": {
      "text/plain": [
       "<matplotlib.image.AxesImage at 0x7f9118b3b518>"
      ]
     },
     "execution_count": 539,
     "metadata": {},
     "output_type": "execute_result"
    },
    {
     "data": {
      "image/png": "[encoded data removed]",
      "text/plain": [
       "<Figure size 432x288 with 1 Axes>"
      ]
     },
     "metadata": {
      "needs_background": "light"
     },
     "output_type": "display_data"
    }
   ],
   "source": [
    "plt.imshow(mark_boundaries(image, segments))"
   ]
  },
  {
   "cell_type": "code",
   "execution_count": 540,
   "metadata": {},
   "outputs": [
    {
     "data": {
      "text/plain": [
       "<matplotlib.image.AxesImage at 0x7f9118e1e780>"
      ]
     },
     "execution_count": 540,
     "metadata": {},
     "output_type": "execute_result"
    },
    {
     "data": {
      "image/png": "[encoded data removed]",
      "text/plain": [
       "<Figure size 432x288 with 1 Axes>"
      ]
     },
     "metadata": {
      "needs_background": "light"
     },
     "output_type": "display_data"
    }
   ],
   "source": [
    "# transform label to feature\n",
    "n_vertex = 2048\n",
    "n_class = 4\n",
    "f_label = np.zeros(n_vertex)\n",
    "\n",
    "for i in range(segments.max()+1):\n",
    "    h = int(np.where(segments==i)[0].mean())\n",
    "    w = int(np.where(segments==i)[1].mean())\n",
    "    f_label[i] = label[h, w]\n",
    "    \n",
    "# for i in range(segments.max()+1):\n",
    "#     f_label[i] = round(label[np.where(segments==i)].mean())\n",
    "    \n",
    "plt.imshow(mark_boundaries(max_min_normalize(label), segments))"
   ]
  },
  {
   "cell_type": "code",
   "execution_count": 541,
   "metadata": {},
   "outputs": [
    {
     "data": {
      "text/plain": [
       "<matplotlib.image.AxesImage at 0x7f9118ef7128>"
      ]
     },
     "execution_count": 541,
     "metadata": {},
     "output_type": "execute_result"
    },
    {
     "data": {
      "image/png": "[encoded data removed]",
      "text/plain": [
       "<Figure size 432x288 with 1 Axes>"
      ]
     },
     "metadata": {
      "needs_background": "light"
     },
     "output_type": "display_data"
    }
   ],
   "source": [
    "# turn back feature to label\n",
    "label_new = np.zeros((label.shape[0], label.shape[1]))\n",
    "for i in range(segments.max()+1):\n",
    "    label_new[np.where(segments==i)] = f_label[i]\n",
    "plt.imshow(label_new)"
   ]
  },
  {
   "cell_type": "code",
   "execution_count": 503,
   "metadata": {},
   "outputs": [],
   "source": [
    "def label_transform(label, segments):\n",
    "    #f_label = np.zeros(n_vertex)\n",
    "    label_new = np.zeros((label.shape[0], label.shape[1]))\n",
    "    for i in range(segments.max() + 1):\n",
    "        where = np.where(segments==i)\n",
    "        h = int(where[0].mean())\n",
    "        w = int(where[1].mean())\n",
    "        label_new[np.where(segments==i)]  = label[h, w] \n",
    "    return label_new"
   ]
  },
  {
   "cell_type": "code",
   "execution_count": 504,
   "metadata": {},
   "outputs": [
    {
     "data": {
      "text/plain": [
       "<matplotlib.image.AxesImage at 0x7f9119257b38>"
      ]
     },
     "execution_count": 504,
     "metadata": {},
     "output_type": "execute_result"
    },
    {
     "data": {
      "image/png": "[encoded data removed]",
      "text/plain": [
       "<Figure size 432x288 with 1 Axes>"
      ]
     },
     "metadata": {
      "needs_background": "light"
     },
     "output_type": "display_data"
    }
   ],
   "source": [
    "label_new = label_transform(label, segments)\n",
    "plt.imshow(label_new)"
   ]
  },
  {
   "cell_type": "code",
   "execution_count": null,
   "metadata": {},
   "outputs": [],
   "source": []
  },
  {
   "cell_type": "code",
   "execution_count": null,
   "metadata": {},
   "outputs": [],
   "source": []
  },
  {
   "cell_type": "code",
   "execution_count": 405,
   "metadata": {},
   "outputs": [
    {
     "data": {
      "text/plain": [
       "tensor([[0, 0],\n",
       "        [0, 0]])"
      ]
     },
     "execution_count": 405,
     "metadata": {},
     "output_type": "execute_result"
    }
   ],
   "source": [
    "import torch\n",
    "a = torch.zeros(2, 2).long()\n",
    "a"
   ]
  },
  {
   "cell_type": "code",
   "execution_count": 451,
   "metadata": {},
   "outputs": [],
   "source": [
    "output = torch.LongTensor(f_label).cuda()\n",
    "target= torch.LongTensor(label).cuda()\n",
    "seg = torch.LongTensor(segments).cuda()\n",
    "\n",
    "img = torch.zeros_like(target).long()\n",
    "\n",
    "mask0 = torch.zeros_like(target)\n",
    "mask1 = torch.ones_like(target)\n",
    "\n",
    "# for i in range(seg_tensor.max() + 1):\n",
    "#     seg_tensor = np.asarray(seg_tensor.cpu())\n",
    "#     where = np.where(seg_tensor==i)\n",
    "#     h = int(where[0].mean())\n",
    "#     w = int(where[1].mean())\n",
    "#     seg_tensor = torch.LongTensor(seg_tensor).cuda()\n",
    "#     img += torch.where(seg_tensor==i, label_tensor[h, w]*mask1, mask0)\n",
    "\n",
    "for i in range(seg_tensor.max() + 1):\n",
    "    img += torch.where(seg_tensor==i, output[i]*mask1, mask0)"
   ]
  },
  {
   "cell_type": "code",
   "execution_count": 433,
   "metadata": {},
   "outputs": [
    {
     "data": {
      "text/plain": [
       "<matplotlib.image.AxesImage at 0x7f91194f9748>"
      ]
     },
     "execution_count": 433,
     "metadata": {},
     "output_type": "execute_result"
    },
    {
     "data": {
      "image/png": "[encoded data removed]",
      "text/plain": [
       "<Figure size 432x288 with 1 Axes>"
      ]
     },
     "metadata": {
      "needs_background": "light"
     },
     "output_type": "display_data"
    }
   ],
   "source": [
    "img = np.asarray(img.cpu())\n",
    "plt.imshow(img)"
   ]
  },
  {
   "cell_type": "code",
   "execution_count": null,
   "metadata": {},
   "outputs": [],
   "source": []
  },
  {
   "cell_type": "code",
   "execution_count": null,
   "metadata": {},
   "outputs": [],
   "source": []
  },
  {
   "cell_type": "code",
   "execution_count": 464,
   "metadata": {},
   "outputs": [
    {
     "data": {
      "text/plain": [
       "tensor([[0.7041, 0.7984, 0.1155, 0.7155, 0.4653, 0.4735, 0.1769],\n",
       "        [0.9559, 0.2194, 0.7668, 0.0571, 0.4287, 0.5186, 0.4793],\n",
       "        [0.5714, 0.4119, 0.4528, 0.4247, 0.0440, 0.8828, 0.8793]])"
      ]
     },
     "execution_count": 464,
     "metadata": {},
     "output_type": "execute_result"
    }
   ],
   "source": [
    "x = torch.rand(3, 7)\n",
    "x"
   ]
  },
  {
   "cell_type": "code",
   "execution_count": 493,
   "metadata": {},
   "outputs": [
    {
     "data": {
      "text/plain": [
       "tensor([[1., 0., 0., 1.],\n",
       "        [1., 1., 1., 0.],\n",
       "        [0., 1., 1., 1.],\n",
       "        [0., 1., 0., 1.]])"
      ]
     },
     "execution_count": 493,
     "metadata": {},
     "output_type": "execute_result"
    }
   ],
   "source": [
    "a = torch.FloatTensor([[0., 0., 0., 1.],\n",
    "           [1., 0., 1., 0.],\n",
    "           [0., 1., 0., 1.],\n",
    "           [0., 1., 0., 0.]])\n",
    "i = torch.eye(a.size(0))\n",
    "a_hat = a+i\n",
    "a_hat"
   ]
  },
  {
   "cell_type": "code",
   "execution_count": 494,
   "metadata": {},
   "outputs": [
    {
     "data": {
      "text/plain": [
       "tensor([[2., 0., 0., 0.],\n",
       "        [0., 3., 0., 0.],\n",
       "        [0., 0., 3., 0.],\n",
       "        [0., 0., 0., 2.]])"
      ]
     },
     "execution_count": 494,
     "metadata": {},
     "output_type": "execute_result"
    }
   ],
   "source": [
    "d = torch.diag(a_hat.sum(1))\n",
    "d"
   ]
  },
  {
   "cell_type": "code",
   "execution_count": 495,
   "metadata": {},
   "outputs": [
    {
     "data": {
      "text/plain": [
       "tensor([[0.5000, 0.0000, 0.0000, -0.0000],\n",
       "        [0.0000, 0.3333, 0.0000, -0.0000],\n",
       "        [0.0000, 0.0000, 0.3333, -0.0000],\n",
       "        [0.0000, 0.0000, 0.0000, 0.5000]])"
      ]
     },
     "execution_count": 495,
     "metadata": {},
     "output_type": "execute_result"
    }
   ],
   "source": [
    "torch.inverse(d)"
   ]
  },
  {
   "cell_type": "code",
   "execution_count": 500,
   "metadata": {},
   "outputs": [
    {
     "data": {
      "text/plain": [
       "tensor([[0.5000, 0.0000, 0.0000, 0.5000],\n",
       "        [0.3333, 0.3333, 0.3333, 0.0000],\n",
       "        [0.0000, 0.3333, 0.3333, 0.3333],\n",
       "        [0.0000, 0.5000, 0.0000, 0.5000]])"
      ]
     },
     "execution_count": 500,
     "metadata": {},
     "output_type": "execute_result"
    }
   ],
   "source": [
    "torch.mm(torch.inverse(d), a_hat)"
   ]
  },
  {
   "cell_type": "code",
   "execution_count": 477,
   "metadata": {},
   "outputs": [
    {
     "data": {
      "text/plain": [
       "tensor([[1.5103],\n",
       "        [3.0652],\n",
       "        [2.9216]])"
      ]
     },
     "execution_count": 477,
     "metadata": {},
     "output_type": "execute_result"
    }
   ],
   "source": [
    "(a.sum(1, keepdim=True) + 1)"
   ]
  },
  {
   "cell_type": "code",
   "execution_count": 476,
   "metadata": {},
   "outputs": [
    {
     "data": {
      "text/plain": [
       "tensor([[1.5103, 0.0000, 0.0000],\n",
       "        [0.0000, 3.0652, 0.0000],\n",
       "        [0.0000, 0.0000, 2.9216]])"
      ]
     },
     "execution_count": 476,
     "metadata": {},
     "output_type": "execute_result"
    }
   ],
   "source": [
    "e = torch.eye(3) * (a.sum(1, keepdim=True) + 1)\n",
    "e"
   ]
  },
  {
   "cell_type": "code",
   "execution_count": 502,
   "metadata": {},
   "outputs": [],
   "source": [
    "i = torch.eye(a.size(0))                                                                                                                                                             \n",
    "a_hat = a + i\n",
    "d = torch.diag(a_hat.sum(1))\n",
    "adj_arr = torch.mm(torch.inverse(d), a_hat)"
   ]
  },
  {
   "cell_type": "code",
   "execution_count": null,
   "metadata": {},
   "outputs": [],
   "source": []
  },
  {
   "cell_type": "code",
   "execution_count": null,
   "metadata": {},
   "outputs": [],
   "source": []
  },
  {
   "cell_type": "code",
   "execution_count": 2,
   "metadata": {},
   "outputs": [
    {
     "name": "stdout",
     "output_type": "stream",
     "text": [
      "5\n"
     ]
    }
   ],
   "source": [
    "a = 5\n",
    "def test_func(b):\n",
    "    b += 1\n",
    "    return 1\n",
    "c = test_func(a)\n",
    "print(a)\n",
    "    "
   ]
  },
  {
   "cell_type": "code",
   "execution_count": 4,
   "metadata": {},
   "outputs": [
    {
     "data": {
      "text/plain": [
       "array([5, 6, 7, 8, 9])"
      ]
     },
     "execution_count": 4,
     "metadata": {},
     "output_type": "execute_result"
    }
   ],
   "source": [
    "np.arange(5, 10)"
   ]
  },
  {
   "cell_type": "code",
   "execution_count": null,
   "metadata": {},
   "outputs": [],
   "source": []
  }
 ],
 "metadata": {
  "kernelspec": {
   "display_name": "torchenv",
   "language": "python",
   "name": "torchenv"
  },
  "language_info": {
   "codemirror_mode": {
    "name": "ipython",
    "version": 3
   },
   "file_extension": ".py",
   "mimetype": "text/x-python",
   "name": "python",
   "nbconvert_exporter": "python",
   "pygments_lexer": "ipython3",
   "version": "3.7.3"
  }
 },
 "nbformat": 4,
 "nbformat_minor": 2
}
