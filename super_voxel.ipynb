{
 "cells": [
  {
   "cell_type": "code",
   "execution_count": 288,
   "metadata": {},
   "outputs": [],
   "source": [
    "import numpy as np\n",
    "import random\n",
    "import nibabel as nib\n",
    "import matplotlib.pyplot as plt\n",
    "import math\n",
    "from skimage.segmentation import slic\n",
    "from skimage.segmentation import mark_boundaries"
   ]
  },
  {
   "cell_type": "code",
   "execution_count": 266,
   "metadata": {},
   "outputs": [],
   "source": [
    "def max_min_normalize(img):\n",
    "    img = np.asarray(img)\n",
    "    return (img-np.min(img)) / (np.max(img)-np.min(img))\n",
    "    "
   ]
  },
  {
   "cell_type": "code",
   "execution_count": 267,
   "metadata": {},
   "outputs": [],
   "source": [
    "image = nib.load('/home/tony/Documents/IBSR_preprocessed/IBSR_02/image.nii.gz').get_data().astype(np.float32)\n",
    "img = image[:, :, 50, 0]\n",
    "img = max_min_normalize(img)\n",
    "img = np.expand_dims(img, axis=2)\n",
    "img = np.concatenate((img, img, img), 2)\n",
    "segments = slic(img.astype('double'), n_segments=300, compactness=30)"
   ]
  },
  {
   "cell_type": "code",
   "execution_count": 238,
   "metadata": {},
   "outputs": [
    {
     "data": {
      "text/plain": [
       "287"
      ]
     },
     "execution_count": 238,
     "metadata": {},
     "output_type": "execute_result"
    }
   ],
   "source": [
    "segments.max()"
   ]
  },
  {
   "cell_type": "code",
   "execution_count": 239,
   "metadata": {},
   "outputs": [
    {
     "data": {
      "text/plain": [
       "<matplotlib.image.AxesImage at 0x7f911d5e54e0>"
      ]
     },
     "execution_count": 239,
     "metadata": {},
     "output_type": "execute_result"
    },
    {
     "data": {
      "image/png": "[encoded data removed]",
      "text/plain": [
       "<Figure size 432x288 with 1 Axes>"
      ]
     },
     "metadata": {
      "needs_background": "light"
     },
     "output_type": "display_data"
    }
   ],
   "source": [
    "plt.imshow(mark_boundaries(img,segments))"
   ]
  },
  {
   "cell_type": "code",
   "execution_count": null,
   "metadata": {},
   "outputs": [],
   "source": []
  },
  {
   "cell_type": "code",
   "execution_count": null,
   "metadata": {},
   "outputs": [],
   "source": []
  },
  {
   "cell_type": "code",
   "execution_count": 246,
   "metadata": {},
   "outputs": [],
   "source": [
    "def feature_extract(img, segments, f_range=5, n_vertex=256, tao=0.1):\n",
    "    step = math.floor(f_range/2)\n",
    "    n_segments = np.max(segments) + 1\n",
    "    centroid_list = []\n",
    "    for i in range(n_vertex):\n",
    "        if i < n_segments:\n",
    "            h_mean = int(np.where(segments==i)[0].mean())\n",
    "            w_mean = int(np.where(segments==i)[1].mean())\n",
    "            centroid_list.append((h_mean, w_mean))\n",
    "        else:\n",
    "            h_mean = int(np.where(segments==0)[0].mean())\n",
    "            w_mean = int(np.where(segments==0)[1].mean())\n",
    "            centroid_list.append((h_mean, w_mean))\n",
    "    \n",
    "    features = np.zeros((n_vertex, f_range*f_range))\n",
    "    for i in range(n_vertex):\n",
    "        h, w = centroid_list[i]\n",
    "        features[i] = img[h-step:h+step+1, w-step:w+step+1, 0].flatten() \n",
    "        \n",
    "    aj_arr = np.zeros((n_vertex, n_vertex))\n",
    "    for i in range(n_vertex):\n",
    "        for j in range(n_vertex):\n",
    "            diff = features[i] - features[j]\n",
    "            diff = np.power(diff, 2)\n",
    "#             for k in range(diff.shape[0]):\n",
    "#                 diff[k] = math.pow(diff[k], 2)\n",
    "            l2_norm_square = diff.sum()   \n",
    "            aj_arr[i, j] = math.exp(-l2_norm_square / (2*tao*tao))\n",
    "    \n",
    "    return features, aj_arr"
   ]
  },
  {
   "cell_type": "code",
   "execution_count": 247,
   "metadata": {},
   "outputs": [],
   "source": [
    "def back_to_label(segments, class_output):\n",
    "    output = np.zeros((segments.shape[0], segments.shape[1]))\n",
    "    for i in range(class_output.shape[0]):\n",
    "        output[np.where(segments==i)] = class_output[i]\n",
    "    return output"
   ]
  },
  {
   "cell_type": "code",
   "execution_count": 260,
   "metadata": {},
   "outputs": [],
   "source": [
    "f, a = feature_extract(img, segments, 7, 300, 7)"
   ]
  },
  {
   "cell_type": "code",
   "execution_count": 259,
   "metadata": {},
   "outputs": [
    {
     "data": {
      "text/plain": [
       "<matplotlib.image.AxesImage at 0x7f911d5d6898>"
      ]
     },
     "execution_count": 259,
     "metadata": {},
     "output_type": "execute_result"
    },
    {
     "data": {
      "image/png": "[encoded data removed]",
      "text/plain": [
       "<Figure size 432x288 with 1 Axes>"
      ]
     },
     "metadata": {
      "needs_background": "light"
     },
     "output_type": "display_data"
    }
   ],
   "source": [
    "class_output = np.asarray([3]*50 + [2]*30 + [1]*70)\n",
    "output = back_to_label(segments, class_output)\n",
    "plt.imshow(output)"
   ]
  },
  {
   "cell_type": "code",
   "execution_count": null,
   "metadata": {},
   "outputs": [],
   "source": []
  },
  {
   "cell_type": "code",
   "execution_count": null,
   "metadata": {},
   "outputs": [],
   "source": []
  },
  {
   "cell_type": "code",
   "execution_count": 203,
   "metadata": {},
   "outputs": [],
   "source": [
    "def vertex_set(img, segments, filter_size, num):\n",
    "    step = math.floor(filter_size/2)\n",
    "    num_of_segments = np.max(segments) + 1\n",
    "    centroid_list = []\n",
    "    for i in range(num_of_segments):\n",
    "        h_mean = int(np.where(segments==i)[0].mean())\n",
    "        w_mean = int(np.where(segments==i)[1].mean())\n",
    "        val_mean = img[h_mean-step:h_mean+step+1, w_mean-step:w_mean+step+1].mean()\n",
    "        centroid_list.append((h_mean, w_mean, val_mean))\n",
    "        centroid_list.sort(key = itemgetter(2), reverse=True)\n",
    "    \n",
    "    features = np.zeros((num, filter_size*filter_size))\n",
    "    for i in range(num):\n",
    "        h, w, v = centroid_list[i]\n",
    "        features[i] = img[h-step:h+step+1, w-step:w+step+1, 0].flatten() \n",
    "    \n",
    "    return features, centroid_list"
   ]
  },
  {
   "cell_type": "code",
   "execution_count": 204,
   "metadata": {},
   "outputs": [],
   "source": [
    "def adjacency_array(features, tao):\n",
    "    n = features.shape[0]\n",
    "    aj_arr = np.zeros((n, n))\n",
    "    for i in range(n):\n",
    "        for j in range(n):\n",
    "            diff = features[i] - features[j]\n",
    "            for k in range(diff.shape[0]):\n",
    "                diff[k] = math.pow(diff[k], 2)\n",
    "            l2_norm_square = diff.sum()   \n",
    "            aj_arr[i, j] = math.exp(-l2_norm_square / (2*tao*tao))\n",
    "    return aj_arr"
   ]
  },
  {
   "cell_type": "code",
   "execution_count": 205,
   "metadata": {},
   "outputs": [],
   "source": [
    "features, centroid_list = vertex_set(img, segments, 7, 150)"
   ]
  },
  {
   "cell_type": "code",
   "execution_count": 206,
   "metadata": {},
   "outputs": [],
   "source": [
    "aj_arr = adjacency_array(features, 0.5)"
   ]
  },
  {
   "cell_type": "code",
   "execution_count": 207,
   "metadata": {},
   "outputs": [],
   "source": [
    "def back_to_label(segments, class_output, centroid_list):\n",
    "    output = np.zeros((segments.shape[0], segments.shape[1]))\n",
    "    for i in range(class_output.shape[0]):\n",
    "        h = centroid_list[i][0]\n",
    "        w = centroid_list[i][1]\n",
    "        lab_num = segments[h, w]\n",
    "        output[np.where(segments==lab_num)] = class_output[i]\n",
    "    return output"
   ]
  },
  {
   "cell_type": "code",
   "execution_count": 208,
   "metadata": {},
   "outputs": [
    {
     "data": {
      "text/plain": [
       "<matplotlib.image.AxesImage at 0x7f911d932eb8>"
      ]
     },
     "execution_count": 208,
     "metadata": {},
     "output_type": "execute_result"
    },
    {
     "data": {
      "image/png": "[encoded data removed]",
      "text/plain": [
       "<Figure size 432x288 with 1 Axes>"
      ]
     },
     "metadata": {
      "needs_background": "light"
     },
     "output_type": "display_data"
    }
   ],
   "source": [
    "class_output = np.asarray([3]*50 + [2]*30 + [1]*70)\n",
    "output = back_to_label(segments, class_output, centroid_list)\n",
    "plt.imshow(output)"
   ]
  },
  {
   "cell_type": "code",
   "execution_count": null,
   "metadata": {},
   "outputs": [],
   "source": []
  },
  {
   "cell_type": "code",
   "execution_count": null,
   "metadata": {},
   "outputs": [],
   "source": []
  },
  {
   "cell_type": "code",
   "execution_count": 109,
   "metadata": {},
   "outputs": [],
   "source": [
    "info = np.zeros((img.shape[0], img.shape[1], 3))\n",
    "n = 7\n",
    "step = math.floor(n/2)\n",
    "# for c in centroid_list:\n",
    "#     for i in range(c[0]-3, c[0]+3+1):\n",
    "#         for j in range(c[1]-3, c[1]+3+1):\n",
    "#             info[i, j, 0] = img[i, j, 0] \n",
    "#             info[i, j, 1] = img[i, j, 1] \n",
    "#             info[i, j, 2] = img[i, j, 2] \n",
    "\n",
    "for c in centroid_list:\n",
    "    info[c[0]-step:c[0]+step+1, c[1]-step:c[1]+step+1] = img[c[0]-step:c[0]+step+1, c[1]-step:c[1]+step+1]"
   ]
  },
  {
   "cell_type": "code",
   "execution_count": 134,
   "metadata": {},
   "outputs": [
    {
     "data": {
      "text/plain": [
       "<matplotlib.image.AxesImage at 0x7f911dc862b0>"
      ]
     },
     "execution_count": 134,
     "metadata": {},
     "output_type": "execute_result"
    },
    {
     "data": {
      "image/png": "[encoded data removed]",
      "text/plain": [
       "<Figure size 432x288 with 1 Axes>"
      ]
     },
     "metadata": {
      "needs_background": "light"
     },
     "output_type": "display_data"
    }
   ],
   "source": [
    "plt.imshow(info)"
   ]
  },
  {
   "cell_type": "code",
   "execution_count": null,
   "metadata": {},
   "outputs": [],
   "source": []
  },
  {
   "cell_type": "code",
   "execution_count": null,
   "metadata": {},
   "outputs": [],
   "source": []
  },
  {
   "cell_type": "code",
   "execution_count": 47,
   "metadata": {},
   "outputs": [],
   "source": [
    "import math\n",
    "from skimage import io, color\n",
    "import numpy as np\n",
    "from tqdm import trange\n",
    "\n",
    "\n",
    "class Cluster(object):\n",
    "    # global cluster num\n",
    "    cluster_index = 0\n",
    "\n",
    "    def __init__(self, h, w, l=0, a=0, b=0):\n",
    "        \"\"\"\n",
    "        Args:\n",
    "            h: row position\n",
    "            w: column position\n",
    "            l: lab l value\n",
    "            a: lab a value\n",
    "            b: lab b value\n",
    "        \"\"\"\n",
    "        self.update(h, w, l, a, b)\n",
    "        self.pixels = []\n",
    "        self.no = self.cluster_index\n",
    "        Cluster.cluster_index += 1\n",
    "\n",
    "    def update(self, h, w, l, a, b):\n",
    "        self.h = h\n",
    "        self.w = w\n",
    "        self.l = l\n",
    "        self.a = a\n",
    "        self.b = b\n",
    "\n",
    "    def __str__(self):\n",
    "        return \"{},{}:{} {} {} \".format(self.h, self.w, self.l, self.a, self.b)\n",
    "\n",
    "    def __repr__(self):\n",
    "        return self.__str__()\n",
    "\n",
    "\n",
    "class SLICProcessor2D(object):\n",
    "    def __init__(self, img, K, M):\n",
    "        \"\"\"\n",
    "        Args:\n",
    "            img: 2D numpy array\n",
    "            K: num of seeds\n",
    "            M: parameter for Dc\n",
    "        \"\"\"\n",
    "        self.K = K\n",
    "        self.M = M\n",
    "\n",
    "        self.data = self.input_rgb2lab(img)\n",
    "        self.image_height = self.data.shape[0]\n",
    "        self.image_width = self.data.shape[1]\n",
    "        self.N = self.image_height * self.image_width\n",
    "        self.S = int(math.sqrt(self.N / self.K))\n",
    "\n",
    "        self.clusters = []\n",
    "        self.label = {}\n",
    "        self.dis = np.full((self.image_height, self.image_width), np.inf)\n",
    "        \n",
    "        self.output_image = self.data.copy()\n",
    "        \n",
    "    def input_rgb2lab(self, img):\n",
    "        lab_arr = color.rgb2lab(img)\n",
    "        return lab_arr\n",
    "        \n",
    "    def make_cluster(self, h, w):\n",
    "        return Cluster(h, w, self.data[h][w][0],\n",
    "                                    self.data[h][w][1],\n",
    "                                    self.data[h][w][2])\n",
    "\n",
    "    def init_clusters(self):\n",
    "        # beginning of h and w\n",
    "        h = self.S / 2\n",
    "        w = self.S / 2\n",
    "        while h < self.image_height: # from top to down\n",
    "            while w < self.image_width: # from left to right\n",
    "                self.clusters.append(self.make_cluster(int(h), int(w)))\n",
    "                w += self.S\n",
    "            w = self.S / 2\n",
    "            h += self.S\n",
    "\n",
    "    def get_gradient(self, h, w):\n",
    "        # if a 3x3 mask will exceed the image\n",
    "        if w + 1 >= self.image_width:\n",
    "            w = self.image_width - 2\n",
    "        if h + 1 >= self.image_height:\n",
    "            h = self.image_height - 2\n",
    "\n",
    "        gradient = self.data[w + 1][h + 1][0] - self.data[w][h][0] + \\\n",
    "                   self.data[w + 1][h + 1][1] - self.data[w][h][1] + \\\n",
    "                   self.data[w + 1][h + 1][2] - self.data[w][h][2]\n",
    "        return gradient\n",
    "\n",
    "    def relocate_clusters_by_gradient(self):\n",
    "        for cluster in self.clusters:\n",
    "            # the gradient of current location\n",
    "            cluster_gradient = self.get_gradient(cluster.h, cluster.w)\n",
    "            # gradients within a 3x3 mask\n",
    "            for dh in range(-1, 2):\n",
    "                for dw in range(-1, 2):\n",
    "                    _h = cluster.h + dh\n",
    "                    _w = cluster.w + dw\n",
    "                    new_gradient = self.get_gradient(_h, _w)\n",
    "                    if new_gradient < cluster_gradient:\n",
    "                        cluster.update(_h, _w, self.data[_h][_w][0], self.data[_h][_w][1], self.data[_h][_w][2])\n",
    "                        cluster_gradient = new_gradient\n",
    "\n",
    "    def assign(self):\n",
    "        \"\"\"\n",
    "        assign pixels to clusters\n",
    "        \"\"\"\n",
    "        for cluster in self.clusters:\n",
    "            # pixels in the range of a cluster\n",
    "            for h in range(cluster.h - 2 * self.S, cluster.h + 2 * self.S):\n",
    "                if h < 0 or h >= self.image_height: continue\n",
    "                for w in range(cluster.w - 2 * self.S, cluster.w + 2 * self.S):\n",
    "                    if w < 0 or w >= self.image_width: continue\n",
    "                        \n",
    "                    L, A, B = self.data[h][w]\n",
    "                    Dc = math.sqrt(\n",
    "                        math.pow(L - cluster.l, 2) +\n",
    "                        math.pow(A - cluster.a, 2) +\n",
    "                        math.pow(B - cluster.b, 2))\n",
    "                    Ds = math.sqrt(\n",
    "                        math.pow(h - cluster.h, 2) +\n",
    "                        math.pow(w - cluster.w, 2))\n",
    "                    D = math.sqrt(math.pow(Dc / self.M, 2) + math.pow(Ds / self.S, 2))\n",
    "                    \n",
    "                    # if D is smaller than the older one, reassign the pixel\n",
    "                    if D < self.dis[h][w]:\n",
    "                        if (h, w) not in self.label:\n",
    "                            self.label[(h, w)] = cluster\n",
    "                            cluster.pixels.append((h, w))\n",
    "                        else:\n",
    "                            self.label[(h, w)].pixels.remove((h, w))\n",
    "                            self.label[(h, w)] = cluster\n",
    "                            cluster.pixels.append((h, w))\n",
    "                        self.dis[h][w] = D\n",
    "\n",
    "    def relocate_clusters(self):\n",
    "        for cluster in self.clusters:\n",
    "            sum_h = sum_w = n = 0\n",
    "            for p in cluster.pixels:\n",
    "                sum_h += p[0]\n",
    "                sum_w += p[1]\n",
    "                n += 1\n",
    "                _h = int(sum_h / n)\n",
    "                _w = int(sum_w / n)\n",
    "                cluster.update(_h, _w, self.data[_h][_w][0], self.data[_h][_w][1], self.data[_h][_w][2])\n",
    "\n",
    "    def return_output_image(self):\n",
    "        img = np.copy(self.output_image)\n",
    "        for cluster in self.clusters:\n",
    "            for p in cluster.pixels:\n",
    "                img[p[0]][p[1]][0] = cluster.l\n",
    "                img[p[0]][p[1]][1] = cluster.a\n",
    "                img[p[0]][p[1]][2] = cluster.b\n",
    "            img[cluster.h][cluster.w][0] = 0\n",
    "            img[cluster.h][cluster.w][1] = 0\n",
    "            img[cluster.h][cluster.w][2] = 0\n",
    "        img = color.lab2rgb(img)\n",
    "        return img\n",
    "\n",
    "    def iterate(self, iter_times):\n",
    "        self.init_clusters()\n",
    "        self.relocate_clusters_by_gradient()\n",
    "        for i in trange(iter_times):\n",
    "            self.assign()\n",
    "            self.relocate_clusters()\n",
    "        self.output_image =  self.return_output_image()\n"
   ]
  },
  {
   "cell_type": "code",
   "execution_count": 49,
   "metadata": {},
   "outputs": [
    {
     "name": "stderr",
     "output_type": "stream",
     "text": [
      "100%|██████████| 5/5 [00:25<00:00,  5.17s/it]\n"
     ]
    },
    {
     "data": {
      "text/plain": [
       "<matplotlib.image.AxesImage at 0x7f911eb3ad30>"
      ]
     },
     "execution_count": 49,
     "metadata": {},
     "output_type": "execute_result"
    },
    {
     "data": {
      "image/png": "[encoded data removed]",
      "text/plain": [
       "<Figure size 432x288 with 1 Axes>"
      ]
     },
     "metadata": {
      "needs_background": "light"
     },
     "output_type": "display_data"
    }
   ],
   "source": [
    "p = SLICProcessor2D(img, 200, 50)\n",
    "p.iterate(5)\n",
    "output = p.output_image\n",
    "plt.imshow(output)"
   ]
  },
  {
   "cell_type": "code",
   "execution_count": null,
   "metadata": {},
   "outputs": [],
   "source": []
  },
  {
   "cell_type": "code",
   "execution_count": null,
   "metadata": {},
   "outputs": [],
   "source": []
  },
  {
   "cell_type": "code",
   "execution_count": 379,
   "metadata": {},
   "outputs": [
    {
     "data": {
      "image/png": "[encoded data removed]",
      "text/plain": [
       "<Figure size 432x288 with 2 Axes>"
      ]
     },
     "metadata": {
      "needs_background": "light"
     },
     "output_type": "display_data"
    }
   ],
   "source": [
    "image = nib.load('/home/tony/Documents/IBSR_preprocessed_2d/IBSR_01/image_80.nii.gz').get_data().astype(np.float32)\n",
    "label = nib.load('/home/tony/Documents/IBSR_preprocessed_2d/IBSR_01/label_80.nii.gz').get_data().astype(np.int64)\n",
    "plt.subplot(121)\n",
    "plt.imshow(image)\n",
    "plt.subplot(122)\n",
    "plt.imshow(label)\n",
    "image = max_min_normalize(image)\n",
    "image = np.expand_dims(image, axis=2)\n",
    "image = np.concatenate((image, image, image), 2)\n",
    "segments = slic(image.astype('double'), n_segments=2000, compactness=20)"
   ]
  },
  {
   "cell_type": "code",
   "execution_count": 380,
   "metadata": {},
   "outputs": [
    {
     "data": {
      "text/plain": [
       "<matplotlib.image.AxesImage at 0x7f911bd7cfd0>"
      ]
     },
     "execution_count": 380,
     "metadata": {},
     "output_type": "execute_result"
    },
    {
     "data": {
      "image/png": "[encoded data removed]",
      "text/plain": [
       "<Figure size 432x288 with 1 Axes>"
      ]
     },
     "metadata": {
      "needs_background": "light"
     },
     "output_type": "display_data"
    }
   ],
   "source": [
    "plt.imshow(mark_boundaries(image, segments))"
   ]
  },
  {
   "cell_type": "code",
   "execution_count": 385,
   "metadata": {},
   "outputs": [
    {
     "data": {
      "text/plain": [
       "<matplotlib.image.AxesImage at 0x7f911bb58470>"
      ]
     },
     "execution_count": 385,
     "metadata": {},
     "output_type": "execute_result"
    },
    {
     "data": {
      "image/png": "[encoded data removed]",
      "text/plain": [
       "<Figure size 432x288 with 1 Axes>"
      ]
     },
     "metadata": {
      "needs_background": "light"
     },
     "output_type": "display_data"
    }
   ],
   "source": [
    "# transform label to feature\n",
    "n_vertex = 2048\n",
    "n_class = 4\n",
    "f_label = np.zeros(n_vertex)\n",
    "\n",
    "for i in range(segments.max()+1):\n",
    "    h = int(np.where(segments==i)[0].mean())\n",
    "    w = int(np.where(segments==i)[1].mean())\n",
    "    f_label[i] = label[h, w]\n",
    "    \n",
    "# for i in range(segments.max()+1):\n",
    "#     f_label[i] = round(label[np.where(segments==i)].mean())\n",
    "    \n",
    "plt.imshow(mark_boundaries(max_min_normalize(label), segments))"
   ]
  },
  {
   "cell_type": "code",
   "execution_count": 386,
   "metadata": {},
   "outputs": [
    {
     "data": {
      "text/plain": [
       "<matplotlib.image.AxesImage at 0x7f911bb2ffd0>"
      ]
     },
     "execution_count": 386,
     "metadata": {},
     "output_type": "execute_result"
    },
    {
     "data": {
      "image/png": "[encoded data removed]",
      "text/plain": [
       "<Figure size 432x288 with 1 Axes>"
      ]
     },
     "metadata": {
      "needs_background": "light"
     },
     "output_type": "display_data"
    }
   ],
   "source": [
    "# turn back feature to label\n",
    "label_new = np.zeros((label.shape[0], label.shape[1]))\n",
    "for i in range(segments.max()+1):\n",
    "    label_new[np.where(segments==i)] = f_label[i]\n",
    "plt.imshow(label_new)"
   ]
  },
  {
   "cell_type": "code",
   "execution_count": 395,
   "metadata": {},
   "outputs": [],
   "source": [
    "def label_transform(label, segments, n_vertex):\n",
    "    f_label = np.zeros(n_vertex)\n",
    "    label_new = np.zeros((label.shape[0], label.shape[1]))\n",
    "    for i in range(segments.max() + 1):\n",
    "        where = np.where(segments==i)\n",
    "        h = int(where[0].mean())\n",
    "        w = int(where[1].mean())\n",
    "        label_new[np.where(segments==i)]  = label[h, w] \n",
    "    return label_new"
   ]
  },
  {
   "cell_type": "code",
   "execution_count": 396,
   "metadata": {},
   "outputs": [
    {
     "data": {
      "text/plain": [
       "<matplotlib.image.AxesImage at 0x7f911b9b3d68>"
      ]
     },
     "execution_count": 396,
     "metadata": {},
     "output_type": "execute_result"
    },
    {
     "data": {
      "image/png": "[encoded data removed]",
      "text/plain": [
       "<Figure size 432x288 with 1 Axes>"
      ]
     },
     "metadata": {
      "needs_background": "light"
     },
     "output_type": "display_data"
    }
   ],
   "source": [
    "label_new = label_transform(label, segments, n_vertex)\n",
    "plt.imshow(label_new)"
   ]
  },
  {
   "cell_type": "code",
   "execution_count": null,
   "metadata": {},
   "outputs": [],
   "source": []
  },
  {
   "cell_type": "code",
   "execution_count": null,
   "metadata": {},
   "outputs": [],
   "source": []
  },
  {
   "cell_type": "code",
   "execution_count": 405,
   "metadata": {},
   "outputs": [
    {
     "data": {
      "text/plain": [
       "tensor([[0, 0],\n",
       "        [0, 0]])"
      ]
     },
     "execution_count": 405,
     "metadata": {},
     "output_type": "execute_result"
    }
   ],
   "source": [
    "import torch\n",
    "a = torch.zeros(2, 2).long()\n",
    "a"
   ]
  },
  {
   "cell_type": "code",
   "execution_count": 451,
   "metadata": {},
   "outputs": [],
   "source": [
    "output = torch.LongTensor(f_label).cuda()\n",
    "target= torch.LongTensor(label).cuda()\n",
    "seg = torch.LongTensor(segments).cuda()\n",
    "\n",
    "img = torch.zeros_like(target).long()\n",
    "\n",
    "mask0 = torch.zeros_like(target)\n",
    "mask1 = torch.ones_like(target)\n",
    "\n",
    "# for i in range(seg_tensor.max() + 1):\n",
    "#     seg_tensor = np.asarray(seg_tensor.cpu())\n",
    "#     where = np.where(seg_tensor==i)\n",
    "#     h = int(where[0].mean())\n",
    "#     w = int(where[1].mean())\n",
    "#     seg_tensor = torch.LongTensor(seg_tensor).cuda()\n",
    "#     img += torch.where(seg_tensor==i, label_tensor[h, w]*mask1, mask0)\n",
    "\n",
    "for i in range(seg_tensor.max() + 1):\n",
    "    img += torch.where(seg_tensor==i, output[i]*mask1, mask0)"
   ]
  },
  {
   "cell_type": "code",
   "execution_count": 433,
   "metadata": {},
   "outputs": [
    {
     "data": {
      "text/plain": [
       "<matplotlib.image.AxesImage at 0x7f91194f9748>"
      ]
     },
     "execution_count": 433,
     "metadata": {},
     "output_type": "execute_result"
    },
    {
     "data": {
      "image/png": "[encoded data removed]",
      "text/plain": [
       "<Figure size 432x288 with 1 Axes>"
      ]
     },
     "metadata": {
      "needs_background": "light"
     },
     "output_type": "display_data"
    }
   ],
   "source": [
    "img = np.asarray(img.cpu())\n",
    "plt.imshow(img)"
   ]
  },
  {
   "cell_type": "code",
   "execution_count": 446,
   "metadata": {},
   "outputs": [
    {
     "data": {
      "text/plain": [
       "torch.Size([256, 256, 4])"
      ]
     },
     "execution_count": 446,
     "metadata": {},
     "output_type": "execute_result"
    }
   ],
   "source": [
    "a = torch.zeros(256, 256, 4)\n",
    "a.shape"
   ]
  },
  {
   "cell_type": "code",
   "execution_count": 452,
   "metadata": {},
   "outputs": [
    {
     "data": {
      "text/plain": [
       "torch.Size([1, 256, 256])"
      ]
     },
     "execution_count": 452,
     "metadata": {},
     "output_type": "execute_result"
    }
   ],
   "source": [
    "img = torch.unsqueeze(img, 0)\n",
    "img.shape"
   ]
  },
  {
   "cell_type": "code",
   "execution_count": 450,
   "metadata": {},
   "outputs": [
    {
     "data": {
      "text/plain": [
       "torch.Size([256, 256, 4])"
      ]
     },
     "execution_count": 450,
     "metadata": {},
     "output_type": "execute_result"
    }
   ],
   "source": [
    "a = torch.zeros(256, 256, 4).cuda().scatter_(2, img, 1)\n",
    "a.shape"
   ]
  },
  {
   "cell_type": "code",
   "execution_count": 419,
   "metadata": {},
   "outputs": [
    {
     "data": {
      "text/plain": [
       "tensor([0, 0, 0,  ..., 0, 0, 0])"
      ]
     },
     "execution_count": 419,
     "metadata": {},
     "output_type": "execute_result"
    }
   ],
   "source": [
    "f_label_tensor.cpu()"
   ]
  },
  {
   "cell_type": "code",
   "execution_count": null,
   "metadata": {},
   "outputs": [],
   "source": []
  }
 ],
 "metadata": {
  "kernelspec": {
   "display_name": "pytorch",
   "language": "python",
   "name": "pytorch"
  },
  "language_info": {
   "codemirror_mode": {
    "name": "ipython",
    "version": 3
   },
   "file_extension": ".py",
   "mimetype": "text/x-python",
   "name": "python",
   "nbconvert_exporter": "python",
   "pygments_lexer": "ipython3",
   "version": "3.7.3"
  }
 },
 "nbformat": 4,
 "nbformat_minor": 2
}
