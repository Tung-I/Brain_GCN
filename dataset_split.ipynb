{
 "cells": [
  {
   "cell_type": "code",
   "execution_count": null,
   "metadata": {},
   "outputs": [],
   "source": [
    "import csv"
   ]
  },
  {
   "cell_type": "code",
   "execution_count": null,
   "metadata": {},
   "outputs": [],
   "source": [
    "data_dir = Path('/home/tony/Documents/IBSR_preprocessed_2d/')\n",
    "paths = [path for path in data_dir.iterdir() if path.is_dir()]\n",
    "random.seed('brain')\n",
    "random.shuffle(paths)\n",
    "csv_list = []\n",
    "train_val_rate = 0.9\n",
    "\n",
    "for i, p in enumerate(paths):\n",
    "    if i < int(len(paths)*train_val_rate):\n",
    "        csv_list.append((p.parts[-1], 'train'))\n",
    "    else:\n",
    "        csv_list.append((p.parts[-1], 'valid'))\n",
    "print(csv_list)"
   ]
  },
  {
   "cell_type": "code",
   "execution_count": null,
   "metadata": {},
   "outputs": [],
   "source": [
    "output_path = '/home/tony/Documents/Brain_GCN/dataset_split_2d.csv'\n",
    "with open(output_path, 'w', newline='') as csvfile:\n",
    "    writer = csv.writer(csvfile)\n",
    "    for c in csv_list:\n",
    "        writer.writerow(c)\n",
    "        \n",
    "# check csv file\n",
    "with open(output_path, 'r') as f:\n",
    "    rows = csv.reader(f)\n",
    "    for case_name, split_type in rows:\n",
    "        print(f'{case_name}, {split_type}')"
   ]
  }
 ],
 "metadata": {
  "kernelspec": {
   "display_name": "torchenv",
   "language": "python",
   "name": "torchenv"
  },
  "language_info": {
   "codemirror_mode": {
    "name": "ipython",
    "version": 3
   },
   "file_extension": ".py",
   "mimetype": "text/x-python",
   "name": "python",
   "nbconvert_exporter": "python",
   "pygments_lexer": "ipython3",
   "version": "3.7.3"
  }
 },
 "nbformat": 4,
 "nbformat_minor": 2
}
