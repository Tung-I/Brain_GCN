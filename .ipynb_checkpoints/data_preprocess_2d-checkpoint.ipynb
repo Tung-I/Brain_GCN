{
 "cells": [
  {
   "cell_type": "code",
   "execution_count": 18,
   "metadata": {},
   "outputs": [],
   "source": [
    "import numpy as np\n",
    "import logging\n",
    "import nibabel as nib\n",
    "import math\n",
    "import matplotlib.pyplot as plt\n",
    "from numpy import linalg as LA\n",
    "from skimage.segmentation import slic\n",
    "from pathlib import Path\n",
    "from skimage.segmentation import slic\n",
    "from skimage.segmentation import mark_boundaries\n",
    "from tqdm import tqdm_notebook as tqdm"
   ]
  },
  {
   "cell_type": "code",
   "execution_count": 19,
   "metadata": {},
   "outputs": [],
   "source": [
    "def various_crop(img, label, least_size):\n",
    "    \"\"\"\n",
    "    Args:\n",
    "        img: (numpy.ndarray)\n",
    "    Returns:\n",
    "        cropped_img: (numpy.ndarray)\n",
    "    \"\"\"\n",
    "    h_size = img.shape[0]\n",
    "    w_size = img.shape[1]\n",
    "    anchor = [0, h_size, 0, w_size]\n",
    "    line_w = img.sum(0)\n",
    "    line_h = img.sum(1)\n",
    "    flag = False\n",
    "    for i in range(h_size):\n",
    "        if flag==False and line_h[i]!=0:\n",
    "            anchor[0] = i\n",
    "            flag = True\n",
    "        elif flag==True and line_h[i]==0:\n",
    "            anchor[1] = i\n",
    "            flag = False\n",
    "            break;\n",
    "    flag = False\n",
    "    for i in range(w_size):\n",
    "        if flag==False and line_w[i]!=0:\n",
    "            anchor[2] = i\n",
    "            flag = True\n",
    "        elif flag==True and line_w[i]==0:\n",
    "            anchor[3] = i\n",
    "            flag = False\n",
    "            break;\n",
    "    h_up, h_down, w_left, w_right = anchor\n",
    "    if (h_down - h_up) < least_size:\n",
    "        h_down = h_up + least_size\n",
    "    if (w_right - w_left) < least_size:\n",
    "        w_right = w_left + least_size\n",
    "    return img[h_up:h_down, w_left:w_right], label[h_up:h_down, w_left:w_right]\n",
    "\n",
    "\n",
    "def max_min_normalize(img):\n",
    "    img = np.asarray(img)\n",
    "    return (img-np.min(img)) / ((np.max(img)-np.min(img) + 1e-10))\n",
    "\n",
    "\n",
    "def value_count(arr, num):\n",
    "    \"\"\"\n",
    "    Args:\n",
    "        arr: value 0~1 (numpy.ndarray)\n",
    "    Returns:\n",
    "        arr of value count: (numpy.ndarray)\n",
    "    \"\"\"\n",
    "    arr = arr.flatten()\n",
    "    arr = (arr * (num-1)).astype(np.int32)\n",
    "    cnt_arr = np.zeros(num).astype(np.int32)\n",
    "    for i in range(arr.shape[0]):\n",
    "        cnt_arr[arr[i]] += 1\n",
    "    return cnt_arr / (cnt_arr.max() + 1e-10)\n",
    "\n",
    "\n",
    "def feature_extract(img, segments, v_num, f_num):\n",
    "    features = np.zeros((v_num, f_num))\n",
    "    for i in range(v_num):\n",
    "        area = img[np.where(segments==i)]\n",
    "        features[i] = value_count(area, f_num)\n",
    "    return features \n",
    "\n",
    "\n",
    "def adj_generate(features, segments, tao, threshold):\n",
    "    centroid = []\n",
    "    range_num = features.shape[0] if features.shape[0] < (segments.max()+1) else (segments.max()+1)\n",
    "    for i in range(range_num):\n",
    "        centroid.append((np.where(segments==i)[0].mean(), np.where(segments==i)[1].mean()))\n",
    "    centroid = np.asarray(centroid)\n",
    "    adj_arr = np.zeros((features.shape[0], features.shape[0]))\n",
    "    for i in range(range_num):\n",
    "        for j in range(i+1, range_num):\n",
    "            if LA.norm(centroid[i] - centroid[j]) > (segments.shape[0]*threshold):\n",
    "                adj_arr[i, j] = 0\n",
    "            else:\n",
    "                e_dist = LA.norm((features[i] - features[j]))\n",
    "                tmp = -1 * e_dist * e_dist / (2*tao*tao)\n",
    "                adj_arr[i, j] = math.exp(tmp)\n",
    "            adj_arr[j, i] = adj_arr[i, j]\n",
    "    adj_arr += np.eye(features.shape[0])\n",
    "    return adj_arr"
   ]
  },
  {
   "cell_type": "code",
   "execution_count": 5,
   "metadata": {},
   "outputs": [
    {
     "data": {
      "text/plain": [
       "[PosixPath('/home/tony/Documents/IBSR_preprocessed/IBSR_12'),\n",
       " PosixPath('/home/tony/Documents/IBSR_preprocessed/IBSR_16'),\n",
       " PosixPath('/home/tony/Documents/IBSR_preprocessed/IBSR_10'),\n",
       " PosixPath('/home/tony/Documents/IBSR_preprocessed/IBSR_18'),\n",
       " PosixPath('/home/tony/Documents/IBSR_preprocessed/IBSR_08'),\n",
       " PosixPath('/home/tony/Documents/IBSR_preprocessed/IBSR_03'),\n",
       " PosixPath('/home/tony/Documents/IBSR_preprocessed/IBSR_13'),\n",
       " PosixPath('/home/tony/Documents/IBSR_preprocessed/IBSR_11'),\n",
       " PosixPath('/home/tony/Documents/IBSR_preprocessed/IBSR_15'),\n",
       " PosixPath('/home/tony/Documents/IBSR_preprocessed/IBSR_07'),\n",
       " PosixPath('/home/tony/Documents/IBSR_preprocessed/IBSR_09'),\n",
       " PosixPath('/home/tony/Documents/IBSR_preprocessed/IBSR_06'),\n",
       " PosixPath('/home/tony/Documents/IBSR_preprocessed/IBSR_14'),\n",
       " PosixPath('/home/tony/Documents/IBSR_preprocessed/IBSR_17'),\n",
       " PosixPath('/home/tony/Documents/IBSR_preprocessed/IBSR_02'),\n",
       " PosixPath('/home/tony/Documents/IBSR_preprocessed/IBSR_01'),\n",
       " PosixPath('/home/tony/Documents/IBSR_preprocessed/IBSR_04'),\n",
       " PosixPath('/home/tony/Documents/IBSR_preprocessed/IBSR_05')]"
      ]
     },
     "execution_count": 5,
     "metadata": {},
     "output_type": "execute_result"
    }
   ],
   "source": [
    "data_dir = Path('/home/tony/Documents/IBSR_preprocessed/')\n",
    "output_dir = Path('/home/tony/Documents/IBSR_preprocessed_2d/')\n",
    "paths = [path for path in data_dir.iterdir() if path.is_dir()]\n",
    "paths"
   ]
  },
  {
   "cell_type": "code",
   "execution_count": 6,
   "metadata": {},
   "outputs": [
    {
     "name": "stdout",
     "output_type": "stream",
     "text": [
      "Process IBSR_12.\n"
     ]
    },
    {
     "data": {
      "application/vnd.jupyter.widget-view+json": {
       "model_id": "3f61f201a1474623befb87b264e356be",
       "version_major": 2,
       "version_minor": 0
      },
      "text/plain": [
       "HBox(children=(IntProgress(value=0, max=128), HTML(value='')))"
      ]
     },
     "metadata": {},
     "output_type": "display_data"
    },
    {
     "name": "stdout",
     "output_type": "stream",
     "text": [
      "\n",
      "Process IBSR_16.\n"
     ]
    },
    {
     "data": {
      "application/vnd.jupyter.widget-view+json": {
       "model_id": "baa111aebdc64335a2328b2f2c4210b8",
       "version_major": 2,
       "version_minor": 0
      },
      "text/plain": [
       "HBox(children=(IntProgress(value=0, max=128), HTML(value='')))"
      ]
     },
     "metadata": {},
     "output_type": "display_data"
    },
    {
     "name": "stdout",
     "output_type": "stream",
     "text": [
      "\n",
      "Process IBSR_10.\n"
     ]
    },
    {
     "data": {
      "application/vnd.jupyter.widget-view+json": {
       "model_id": "c77ddabe433f4be898c87c3caa48248f",
       "version_major": 2,
       "version_minor": 0
      },
      "text/plain": [
       "HBox(children=(IntProgress(value=0, max=128), HTML(value='')))"
      ]
     },
     "metadata": {},
     "output_type": "display_data"
    },
    {
     "name": "stdout",
     "output_type": "stream",
     "text": [
      "\n",
      "Process IBSR_18.\n"
     ]
    },
    {
     "data": {
      "application/vnd.jupyter.widget-view+json": {
       "model_id": "31cb438e4a9f4640a2d8f4d98014c23c",
       "version_major": 2,
       "version_minor": 0
      },
      "text/plain": [
       "HBox(children=(IntProgress(value=0, max=128), HTML(value='')))"
      ]
     },
     "metadata": {},
     "output_type": "display_data"
    },
    {
     "name": "stdout",
     "output_type": "stream",
     "text": [
      "\n",
      "Process IBSR_08.\n"
     ]
    },
    {
     "data": {
      "application/vnd.jupyter.widget-view+json": {
       "model_id": "0fe6a749c39744dca3f090368587c07a",
       "version_major": 2,
       "version_minor": 0
      },
      "text/plain": [
       "HBox(children=(IntProgress(value=0, max=128), HTML(value='')))"
      ]
     },
     "metadata": {},
     "output_type": "display_data"
    },
    {
     "name": "stdout",
     "output_type": "stream",
     "text": [
      "\n",
      "Process IBSR_03.\n"
     ]
    },
    {
     "data": {
      "application/vnd.jupyter.widget-view+json": {
       "model_id": "d47c930326ac4c06a6923cbb46692beb",
       "version_major": 2,
       "version_minor": 0
      },
      "text/plain": [
       "HBox(children=(IntProgress(value=0, max=128), HTML(value='')))"
      ]
     },
     "metadata": {},
     "output_type": "display_data"
    },
    {
     "name": "stdout",
     "output_type": "stream",
     "text": [
      "\n",
      "Process IBSR_13.\n"
     ]
    },
    {
     "data": {
      "application/vnd.jupyter.widget-view+json": {
       "model_id": "1dd9fd7724814df7a5052cfb1e910dfb",
       "version_major": 2,
       "version_minor": 0
      },
      "text/plain": [
       "HBox(children=(IntProgress(value=0, max=128), HTML(value='')))"
      ]
     },
     "metadata": {},
     "output_type": "display_data"
    },
    {
     "name": "stdout",
     "output_type": "stream",
     "text": [
      "\n",
      "Process IBSR_11.\n"
     ]
    },
    {
     "data": {
      "application/vnd.jupyter.widget-view+json": {
       "model_id": "fb173034137f42f8ad0941bb36d0975b",
       "version_major": 2,
       "version_minor": 0
      },
      "text/plain": [
       "HBox(children=(IntProgress(value=0, max=128), HTML(value='')))"
      ]
     },
     "metadata": {},
     "output_type": "display_data"
    },
    {
     "name": "stdout",
     "output_type": "stream",
     "text": [
      "\n",
      "Process IBSR_15.\n"
     ]
    },
    {
     "data": {
      "application/vnd.jupyter.widget-view+json": {
       "model_id": "30c212d0c0264802a35c75d567c42155",
       "version_major": 2,
       "version_minor": 0
      },
      "text/plain": [
       "HBox(children=(IntProgress(value=0, max=128), HTML(value='')))"
      ]
     },
     "metadata": {},
     "output_type": "display_data"
    },
    {
     "name": "stdout",
     "output_type": "stream",
     "text": [
      "\n",
      "Process IBSR_07.\n"
     ]
    },
    {
     "data": {
      "application/vnd.jupyter.widget-view+json": {
       "model_id": "a2598061b8364dcb8f409fd65a2e39c7",
       "version_major": 2,
       "version_minor": 0
      },
      "text/plain": [
       "HBox(children=(IntProgress(value=0, max=128), HTML(value='')))"
      ]
     },
     "metadata": {},
     "output_type": "display_data"
    },
    {
     "name": "stdout",
     "output_type": "stream",
     "text": [
      "\n",
      "Process IBSR_09.\n"
     ]
    },
    {
     "data": {
      "application/vnd.jupyter.widget-view+json": {
       "model_id": "b076b61c0f854838a63400c4308e51f7",
       "version_major": 2,
       "version_minor": 0
      },
      "text/plain": [
       "HBox(children=(IntProgress(value=0, max=128), HTML(value='')))"
      ]
     },
     "metadata": {},
     "output_type": "display_data"
    },
    {
     "name": "stdout",
     "output_type": "stream",
     "text": [
      "\n",
      "Process IBSR_06.\n"
     ]
    },
    {
     "data": {
      "application/vnd.jupyter.widget-view+json": {
       "model_id": "4433472b092046e899360507814e6383",
       "version_major": 2,
       "version_minor": 0
      },
      "text/plain": [
       "HBox(children=(IntProgress(value=0, max=128), HTML(value='')))"
      ]
     },
     "metadata": {},
     "output_type": "display_data"
    },
    {
     "name": "stdout",
     "output_type": "stream",
     "text": [
      "\n",
      "Process IBSR_14.\n"
     ]
    },
    {
     "data": {
      "application/vnd.jupyter.widget-view+json": {
       "model_id": "3c216efd3f5a4e39a5749f3fb92c8ae7",
       "version_major": 2,
       "version_minor": 0
      },
      "text/plain": [
       "HBox(children=(IntProgress(value=0, max=128), HTML(value='')))"
      ]
     },
     "metadata": {},
     "output_type": "display_data"
    },
    {
     "name": "stdout",
     "output_type": "stream",
     "text": [
      "\n",
      "Process IBSR_17.\n"
     ]
    },
    {
     "data": {
      "application/vnd.jupyter.widget-view+json": {
       "model_id": "429308f2924643f49fcf9b24ac4a67f8",
       "version_major": 2,
       "version_minor": 0
      },
      "text/plain": [
       "HBox(children=(IntProgress(value=0, max=128), HTML(value='')))"
      ]
     },
     "metadata": {},
     "output_type": "display_data"
    },
    {
     "name": "stdout",
     "output_type": "stream",
     "text": [
      "\n",
      "Process IBSR_02.\n"
     ]
    },
    {
     "data": {
      "application/vnd.jupyter.widget-view+json": {
       "model_id": "23e61279655849d2b9fa3202fc4ed8d1",
       "version_major": 2,
       "version_minor": 0
      },
      "text/plain": [
       "HBox(children=(IntProgress(value=0, max=128), HTML(value='')))"
      ]
     },
     "metadata": {},
     "output_type": "display_data"
    },
    {
     "name": "stdout",
     "output_type": "stream",
     "text": [
      "\n",
      "Process IBSR_01.\n"
     ]
    },
    {
     "data": {
      "application/vnd.jupyter.widget-view+json": {
       "model_id": "4331d4fedc7648e5b94a6effbd51f060",
       "version_major": 2,
       "version_minor": 0
      },
      "text/plain": [
       "HBox(children=(IntProgress(value=0, max=128), HTML(value='')))"
      ]
     },
     "metadata": {},
     "output_type": "display_data"
    },
    {
     "name": "stdout",
     "output_type": "stream",
     "text": [
      "\n",
      "Process IBSR_04.\n"
     ]
    },
    {
     "data": {
      "application/vnd.jupyter.widget-view+json": {
       "model_id": "d2cdba0b5ea54d4a9f913526b2045a7d",
       "version_major": 2,
       "version_minor": 0
      },
      "text/plain": [
       "HBox(children=(IntProgress(value=0, max=128), HTML(value='')))"
      ]
     },
     "metadata": {},
     "output_type": "display_data"
    },
    {
     "name": "stdout",
     "output_type": "stream",
     "text": [
      "\n",
      "Process IBSR_05.\n"
     ]
    },
    {
     "data": {
      "application/vnd.jupyter.widget-view+json": {
       "model_id": "91e6003ea2b242d39d1bd08a7ab1c215",
       "version_major": 2,
       "version_minor": 0
      },
      "text/plain": [
       "HBox(children=(IntProgress(value=0, max=128), HTML(value='')))"
      ]
     },
     "metadata": {},
     "output_type": "display_data"
    },
    {
     "name": "stdout",
     "output_type": "stream",
     "text": [
      "\n"
     ]
    }
   ],
   "source": [
    "IMG_MIN_SIZE = 64\n",
    "N_SEG = 512\n",
    "COMPACTNESS = 10\n",
    "N_VERTEX = 512\n",
    "N_FEATURES = 128\n",
    "TAO = 0.5\n",
    "THRESHOLD = 0.5\n",
    "\n",
    "for path in paths:\n",
    "    #logging.info(f'Process {path.parts[-1]}.')\n",
    "    print(f'Process {path.parts[-1]}.')\n",
    "    # Create output directory\n",
    "    if not (output_dir / path.parts[-1]).is_dir():\n",
    "        (output_dir / path.parts[-1]).mkdir(parents=True)\n",
    "\n",
    "    # Read in the MRI scans\n",
    "    image = nib.load(str(path / 'image.nii.gz')).get_data().astype(np.float32)\n",
    "    image = np.squeeze(image, 3)\n",
    "    image = image.transpose(2, 0, 1)\n",
    "    label = nib.load(str(path / 'label.nii.gz')).get_data().astype(np.uint8)\n",
    "    label = np.squeeze(label, 3)\n",
    "    label = label.transpose(2, 0, 1)\n",
    "\n",
    "    # Save each slice of the scan into single file\n",
    "    for s in tqdm(range(image.shape[0])):\n",
    "        if s>=5 and s<=115:\n",
    "            _image = image[s]\n",
    "            _label = label[s]\n",
    "            #nib.save(nib.Nifti1Image(_image, np.eye(4)), str(output_dir / path.parts[-1] / f'image_{s}.nii.gz'))\n",
    "            #nib.save(nib.Nifti1Image(_label, np.eye(4)), str(output_dir / path.parts[-1] / f'label_{s}.nii.gz'))\n",
    "            img_crop, label_crop = various_crop(_image, _label, IMG_MIN_SIZE)\n",
    "            img_crop = max_min_normalize(img_crop)\n",
    "            img_3c = np.expand_dims(img_crop, axis=2)\n",
    "            img_3c = np.concatenate((img_3c, img_3c, img_3c), 2)\n",
    "            \n",
    "            #segments = slic(img_3c.astype('double'), n_segments=N_SEG, compactness=COMPACTNESS)\n",
    "            #features = feature_extract(img_crop, segments, N_VERTEX, N_FEATURES)\n",
    "            #adj_arr = adj_generate(features, segments, TAO, THRESHOLD)\n",
    "            \n",
    "            np.save(str(output_dir / path.parts[-1] / f'image_{s}.npy'), img_crop)\n",
    "            np.save(str(output_dir / path.parts[-1] / f'label_{s}.npy'), label_crop)\n",
    "            #np.save(str(output_dir / path.parts[-1] / f'segments_{s}.npy'), segments)\n",
    "            #np.save(str(output_dir / path.parts[-1] / f'features_{s}.npy'), features)\n",
    "            #np.save(str(output_dir / path.parts[-1] / f'adj_arr_{s}.npy'), adj_arr)\n"
   ]
  },
  {
   "cell_type": "code",
   "execution_count": null,
   "metadata": {},
   "outputs": [],
   "source": []
  },
  {
   "cell_type": "code",
   "execution_count": null,
   "metadata": {},
   "outputs": [],
   "source": []
  },
  {
   "cell_type": "code",
   "execution_count": null,
   "metadata": {},
   "outputs": [],
   "source": []
  },
  {
   "cell_type": "code",
   "execution_count": null,
   "metadata": {},
   "outputs": [],
   "source": []
  },
  {
   "cell_type": "code",
   "execution_count": 8,
   "metadata": {},
   "outputs": [],
   "source": [
    "_dir = Path('/home/tony/Documents/IBSR_preprocessed_2d/IBSR_11')\n",
    "image = np.load(_dir / f'image_{50}.npy').astype(np.float32)\n",
    "label = np.load(_dir / f'label_{50}.npy').astype(np.int32)\n",
    "segments = np.load(_dir / f'segments_{50}.npy').astype(np.float32)\n",
    "features = np.load(_dir / f'features_{50}.npy').astype(np.float32)\n",
    "adj_arr = np.load(_dir / f'adj_arr_{50}.npy').astype(np.float32)\n"
   ]
  },
  {
   "cell_type": "code",
   "execution_count": 9,
   "metadata": {},
   "outputs": [
    {
     "data": {
      "text/plain": [
       "<matplotlib.image.AxesImage at 0x7fb521738fd0>"
      ]
     },
     "execution_count": 9,
     "metadata": {},
     "output_type": "execute_result"
    },
    {
     "data": {
      "image/png": "[encoded data removed]",
      "text/plain": [
       "<Figure size 432x288 with 1 Axes>"
      ]
     },
     "metadata": {
      "needs_background": "light"
     },
     "output_type": "display_data"
    }
   ],
   "source": [
    "plt.imshow(image)"
   ]
  },
  {
   "cell_type": "code",
   "execution_count": 10,
   "metadata": {},
   "outputs": [
    {
     "data": {
      "text/plain": [
       "<matplotlib.image.AxesImage at 0x7fb5216a41d0>"
      ]
     },
     "execution_count": 10,
     "metadata": {},
     "output_type": "execute_result"
    },
    {
     "data": {
      "image/png": "[encoded data removed]",
      "text/plain": [
       "<Figure size 432x288 with 1 Axes>"
      ]
     },
     "metadata": {
      "needs_background": "light"
     },
     "output_type": "display_data"
    }
   ],
   "source": [
    "plt.imshow(label)"
   ]
  },
  {
   "cell_type": "code",
   "execution_count": 11,
   "metadata": {},
   "outputs": [
    {
     "data": {
      "text/plain": [
       "<matplotlib.image.AxesImage at 0x7fb52167cef0>"
      ]
     },
     "execution_count": 11,
     "metadata": {},
     "output_type": "execute_result"
    },
    {
     "data": {
      "image/png": "[encoded data removed]",
      "text/plain": [
       "<Figure size 432x288 with 1 Axes>"
      ]
     },
     "metadata": {
      "needs_background": "light"
     },
     "output_type": "display_data"
    }
   ],
   "source": [
    "plt.imshow(adj_arr)"
   ]
  },
  {
   "cell_type": "code",
   "execution_count": 12,
   "metadata": {},
   "outputs": [
    {
     "data": {
      "text/plain": [
       "<matplotlib.image.AxesImage at 0x7fb521611c18>"
      ]
     },
     "execution_count": 12,
     "metadata": {},
     "output_type": "execute_result"
    },
    {
     "data": {
      "image/png": "[encoded data removed]",
      "text/plain": [
       "<Figure size 432x288 with 2 Axes>"
      ]
     },
     "metadata": {
      "needs_background": "light"
     },
     "output_type": "display_data"
    }
   ],
   "source": [
    "plt.subplot(211)\n",
    "plt.imshow(image)\n",
    "plt.subplot(212)\n",
    "plt.imshow(label)"
   ]
  },
  {
   "cell_type": "code",
   "execution_count": 13,
   "metadata": {},
   "outputs": [],
   "source": [
    "img_crop, label_crop = various_crop(image, label, 100)\n",
    "img_crop = max_min_normalize(img_crop)\n",
    "img_3c = np.expand_dims(img_crop, axis=2)\n",
    "img_3c = np.concatenate((img_3c, img_3c, img_3c), 2)"
   ]
  },
  {
   "cell_type": "code",
   "execution_count": 14,
   "metadata": {},
   "outputs": [
    {
     "data": {
      "text/plain": [
       "<matplotlib.image.AxesImage at 0x7fb5215346d8>"
      ]
     },
     "execution_count": 14,
     "metadata": {},
     "output_type": "execute_result"
    },
    {
     "data": {
      "image/png": "[encoded data removed]",
      "text/plain": [
       "<Figure size 432x288 with 2 Axes>"
      ]
     },
     "metadata": {
      "needs_background": "light"
     },
     "output_type": "display_data"
    }
   ],
   "source": [
    "n_seg = 512\n",
    "compact = 10\n",
    "segments = slic(img_3c.astype('double'), n_segments=n_seg, compactness=compact)\n",
    "label_recon = np.zeros((label_crop.shape[0], label_crop.shape[1]))\n",
    "for i in range(segments.max()+1):\n",
    "    label_recon[np.where(segments==i)] = int(np.median(label_crop[np.where(segments==i)]))\n",
    "plt.subplot(211)\n",
    "plt.imshow(label_recon)\n",
    "plt.subplot(212)\n",
    "plt.imshow(label_crop)"
   ]
  },
  {
   "cell_type": "code",
   "execution_count": null,
   "metadata": {},
   "outputs": [],
   "source": []
  },
  {
   "cell_type": "code",
   "execution_count": null,
   "metadata": {},
   "outputs": [],
   "source": []
  },
  {
   "cell_type": "code",
   "execution_count": 17,
   "metadata": {},
   "outputs": [
    {
     "data": {
      "text/plain": [
       "<matplotlib.image.AxesImage at 0x7fb521451240>"
      ]
     },
     "execution_count": 17,
     "metadata": {},
     "output_type": "execute_result"
    },
    {
     "data": {
      "image/png": "[encoded data removed]",
      "text/plain": [
       "<Figure size 432x288 with 1 Axes>"
      ]
     },
     "metadata": {
      "needs_background": "light"
     },
     "output_type": "display_data"
    }
   ],
   "source": [
    "test = label_crop.copy()\n",
    "test[np.where(test!=1)] = 0\n",
    "plt.imshow(test)"
   ]
  },
  {
   "cell_type": "code",
   "execution_count": null,
   "metadata": {},
   "outputs": [],
   "source": []
  }
 ],
 "metadata": {
  "kernelspec": {
   "display_name": "torchenv",
   "language": "python",
   "name": "torchenv"
  },
  "language_info": {
   "codemirror_mode": {
    "name": "ipython",
    "version": 3
   },
   "file_extension": ".py",
   "mimetype": "text/x-python",
   "name": "python",
   "nbconvert_exporter": "python",
   "pygments_lexer": "ipython3",
   "version": "3.7.3"
  }
 },
 "nbformat": 4,
 "nbformat_minor": 2
}
