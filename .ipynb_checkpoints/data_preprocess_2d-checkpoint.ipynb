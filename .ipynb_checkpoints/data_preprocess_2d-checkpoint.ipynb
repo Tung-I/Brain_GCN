{
 "cells": [
  {
   "cell_type": "code",
   "execution_count": 46,
   "metadata": {},
   "outputs": [],
   "source": [
    "import numpy as np\n",
    "import logging\n",
    "import nibabel as nib\n",
    "from pathlib import Path"
   ]
  },
  {
   "cell_type": "code",
   "execution_count": 28,
   "metadata": {},
   "outputs": [],
   "source": [
    "data_dir = Path('/home/tony/Documents/IBSR_preprocessed/')\n",
    "output_dir = Path('/home/tony/Documents/IBSR_preprocessed_2d/')\n",
    "paths = [path for path in data_dir.iterdir() if path.is_dir()]"
   ]
  },
  {
   "cell_type": "code",
   "execution_count": 29,
   "metadata": {},
   "outputs": [
    {
     "data": {
      "text/plain": [
       "[PosixPath('/home/tony/Documents/IBSR_preprocessed/IBSR_12'),\n",
       " PosixPath('/home/tony/Documents/IBSR_preprocessed/IBSR_16'),\n",
       " PosixPath('/home/tony/Documents/IBSR_preprocessed/IBSR_10'),\n",
       " PosixPath('/home/tony/Documents/IBSR_preprocessed/IBSR_18'),\n",
       " PosixPath('/home/tony/Documents/IBSR_preprocessed/IBSR_08'),\n",
       " PosixPath('/home/tony/Documents/IBSR_preprocessed/IBSR_03'),\n",
       " PosixPath('/home/tony/Documents/IBSR_preprocessed/IBSR_13'),\n",
       " PosixPath('/home/tony/Documents/IBSR_preprocessed/IBSR_11'),\n",
       " PosixPath('/home/tony/Documents/IBSR_preprocessed/IBSR_15'),\n",
       " PosixPath('/home/tony/Documents/IBSR_preprocessed/IBSR_07'),\n",
       " PosixPath('/home/tony/Documents/IBSR_preprocessed/IBSR_09'),\n",
       " PosixPath('/home/tony/Documents/IBSR_preprocessed/IBSR_06'),\n",
       " PosixPath('/home/tony/Documents/IBSR_preprocessed/IBSR_14'),\n",
       " PosixPath('/home/tony/Documents/IBSR_preprocessed/IBSR_17'),\n",
       " PosixPath('/home/tony/Documents/IBSR_preprocessed/IBSR_02'),\n",
       " PosixPath('/home/tony/Documents/IBSR_preprocessed/IBSR_01'),\n",
       " PosixPath('/home/tony/Documents/IBSR_preprocessed/IBSR_04'),\n",
       " PosixPath('/home/tony/Documents/IBSR_preprocessed/IBSR_05')]"
      ]
     },
     "execution_count": 29,
     "metadata": {},
     "output_type": "execute_result"
    }
   ],
   "source": [
    "paths"
   ]
  },
  {
   "cell_type": "code",
   "execution_count": 31,
   "metadata": {},
   "outputs": [],
   "source": [
    "for path in paths:\n",
    "    logging.info(f'Process {path.parts[-1]}.')\n",
    "\n",
    "    # Create output directory\n",
    "    if not (output_dir / path.parts[-1]).is_dir():\n",
    "        (output_dir / path.parts[-1]).mkdir(parents=True)\n",
    "\n",
    "    # Read in the MRI scans\n",
    "    image = nib.load(str(path / 'image.nii.gz')).get_data().astype(np.float32)\n",
    "    label = nib.load(str(path / 'label.nii.gz')).get_data().astype(np.uint8)\n",
    "\n",
    "    # Save each slice of the scan into single file\n",
    "    for s in range(image.shape[0]):\n",
    "        _image = image[s:s+1]\n",
    "        nib.save(nib.Nifti1Image(_image, np.eye(4)), str(output_dir / path.parts[-1] / f'image_{s}.nii.gz'))\n",
    "\n",
    "        # The label for segmentation task.\n",
    "        _seg_label = label[s:s+1]\n",
    "        nib.save(nib.Nifti1Image(_seg_label, np.eye(4)), str(output_dir / path.parts[-1] / f'label_{s}.nii.gz'))"
   ]
  },
  {
   "cell_type": "code",
   "execution_count": null,
   "metadata": {},
   "outputs": [],
   "source": []
  },
  {
   "cell_type": "code",
   "execution_count": 48,
   "metadata": {},
   "outputs": [],
   "source": [
    "import csv"
   ]
  },
  {
   "cell_type": "code",
   "execution_count": 50,
   "metadata": {},
   "outputs": [
    {
     "data": {
      "text/plain": [
       "[('IBSR_01', 'train'),\n",
       " ('IBSR_09', 'train'),\n",
       " ('IBSR_06', 'train'),\n",
       " ('IBSR_13', 'train'),\n",
       " ('IBSR_02', 'train'),\n",
       " ('IBSR_15', 'train'),\n",
       " ('IBSR_18', 'train'),\n",
       " ('IBSR_17', 'train'),\n",
       " ('IBSR_14', 'train'),\n",
       " ('IBSR_12', 'train'),\n",
       " ('IBSR_11', 'train'),\n",
       " ('IBSR_04', 'train'),\n",
       " ('IBSR_03', 'train'),\n",
       " ('IBSR_10', 'train'),\n",
       " ('IBSR_16', 'train'),\n",
       " ('IBSR_05', 'train'),\n",
       " ('IBSR_08', 'valid'),\n",
       " ('IBSR_07', 'valid')]"
      ]
     },
     "execution_count": 50,
     "metadata": {},
     "output_type": "execute_result"
    }
   ],
   "source": [
    "data_dir = Path('/home/tony/Documents/IBSR_preprocessed_2d/')\n",
    "paths = [path for path in data_dir.iterdir() if path.is_dir()]\n",
    "random.seed('brain')\n",
    "random.shuffle(paths)\n",
    "csv_list = []\n",
    "train_val_rate = 0.9\n",
    "\n",
    "for i, p in enumerate(paths):\n",
    "    if i < int(len(paths)*train_val_rate):\n",
    "        csv_list.append((p.parts[-1], 'train'))\n",
    "    else:\n",
    "        csv_list.append((p.parts[-1], 'valid'))\n",
    "csv_list"
   ]
  },
  {
   "cell_type": "code",
   "execution_count": 51,
   "metadata": {},
   "outputs": [
    {
     "name": "stdout",
     "output_type": "stream",
     "text": [
      "IBSR_01, train\n",
      "IBSR_09, train\n",
      "IBSR_06, train\n",
      "IBSR_13, train\n",
      "IBSR_02, train\n",
      "IBSR_15, train\n",
      "IBSR_18, train\n",
      "IBSR_17, train\n",
      "IBSR_14, train\n",
      "IBSR_12, train\n",
      "IBSR_11, train\n",
      "IBSR_04, train\n",
      "IBSR_03, train\n",
      "IBSR_10, train\n",
      "IBSR_16, train\n",
      "IBSR_05, train\n",
      "IBSR_08, valid\n",
      "IBSR_07, valid\n"
     ]
    }
   ],
   "source": [
    "output_path = '/home/tony/Documents/Brain_GCN/dataset_split_2d.csv'\n",
    "with open(output_path, 'w', newline='') as csvfile:\n",
    "    writer = csv.writer(csvfile)\n",
    "    for c in csv_list:\n",
    "        writer.writerow(c)\n",
    "with open(output_path, 'r') as f:\n",
    "    rows = csv.reader(f)\n",
    "    for case_name, split_type in rows:\n",
    "        print(f'{case_name}, {split_type}')"
   ]
  },
  {
   "cell_type": "code",
   "execution_count": null,
   "metadata": {},
   "outputs": [],
   "source": []
  }
 ],
 "metadata": {
  "kernelspec": {
   "display_name": "pytorch",
   "language": "python",
   "name": "pytorch"
  },
  "language_info": {
   "codemirror_mode": {
    "name": "ipython",
    "version": 3
   },
   "file_extension": ".py",
   "mimetype": "text/x-python",
   "name": "python",
   "nbconvert_exporter": "python",
   "pygments_lexer": "ipython3",
   "version": "3.7.3"
  }
 },
 "nbformat": 4,
 "nbformat_minor": 2
}
